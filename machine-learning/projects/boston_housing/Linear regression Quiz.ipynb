{
 "cells": [
  {
   "cell_type": "code",
   "execution_count": 1,
   "metadata": {
    "collapsed": true
   },
   "outputs": [],
   "source": [
    "import numpy\n",
    "import random\n",
    "\n",
    "def ageNetWorthData():\n",
    "\n",
    "    random.seed(42)\n",
    "    numpy.random.seed(42)\n",
    "\n",
    "    ages = []\n",
    "    for ii in range(100):\n",
    "        ages.append( random.randint(20,65) )\n",
    "    net_worths = [ii * 6.25 + numpy.random.normal(scale=40.) for ii in ages]\n",
    "### need massage list into a 2d numpy array to get it to work in LinearRegression\n",
    "    ages       = numpy.reshape( numpy.array(ages), (len(ages), 1))\n",
    "    net_worths = numpy.reshape( numpy.array(net_worths), (len(net_worths), 1))\n",
    "\n",
    "    from sklearn.cross_validation import train_test_split\n",
    "    ages_train, ages_test, net_worths_train, net_worths_test = train_test_split(ages, net_worths)\n",
    "\n",
    "    return ages_train, ages_test, net_worths_train, net_worths_test"
   ]
  },
  {
   "cell_type": "code",
   "execution_count": 25,
   "metadata": {
    "collapsed": false
   },
   "outputs": [
    {
     "name": "stdout",
     "output_type": "stream",
     "text": [
      "6.47354954958\n",
      "0.874588235822\n",
      "-14.3537833078\n"
     ]
    }
   ],
   "source": [
    "import numpy\n",
    "import matplotlib.pyplot as plt\n",
    "\n",
    "#from ages_net_worths import ageNetWorthData\n",
    "\n",
    "ages_train, ages_test, net_worths_train, net_worths_test = ageNetWorthData()\n",
    "\n",
    "\n",
    "\n",
    "from sklearn.linear_model import LinearRegression\n",
    "\n",
    "reg = LinearRegression()\n",
    "reg.fit(ages_train, net_worths_train)\n",
    "\n",
    "### get Katie's net worth (she's 27)\n",
    "### sklearn predictions are returned in an array, so you'll want to index into\n",
    "### the output to get what you want, e.g. net_worth = predict([[27]])[0][0] (not\n",
    "### exact syntax, the point is the [0] at the end). In addition, make sure the\n",
    "### argument to your prediction function is in the expected format - if you get\n",
    "### a warning about needing a 2d array for your data, a list of lists will be\n",
    "### interpreted by sklearn as such (e.g. [[27]]).\n",
    "km_net_worth = reg.predict([[27]]) ### fill in the line of code to get the right value\n",
    "\n",
    "### get the slope\n",
    "### again, you'll get a 2-D array, so stick the [0][0] at the end\n",
    "slope = reg.coef_[0][0]  ### fill in the line of code to get the right value\n",
    "\n",
    "### get the intercept\n",
    "### here you get a 1-D array, so stick [0] on the end to access\n",
    "### the info we want\n",
    "intercept = reg.intercept_[0] ### fill in the line of code to get the right value\n",
    "\n",
    "\n",
    "### get the score on test data\n",
    "test_score = reg.score(ages_test, net_worths_test) ### fill in the line of code to get the right value\n",
    "\n",
    "\n",
    "### get the score on the training data\n",
    "training_score = reg.score(ages_train, net_worths_train) ### fill in the line of code to get the right value\n",
    "\n",
    "print (reg.coef_[0][0])\n",
    "print (training_score)\n",
    "print (reg.intercept_[0])\n",
    "\n",
    "def submitFit():\n",
    "    # all of the values in the returned dictionary are expected to be\n",
    "    # numbers for the purpose of the grader.\n",
    "    return {\"networth\":km_net_worth[0],\n",
    "            \"slope\":slope,\n",
    "            \"intercept\":intercept,\n",
    "            \"stats on test\":test_score,\n",
    "            \"stats on training\": training_score}"
   ]
  },
  {
   "cell_type": "code",
   "execution_count": 21,
   "metadata": {
    "collapsed": false
   },
   "outputs": [
    {
     "ename": "TypeError",
     "evalue": "'function' object has no attribute '__getitem__'",
     "output_type": "error",
     "traceback": [
      "\u001b[0;31m---------------------------------------------------------------------------\u001b[0m",
      "\u001b[0;31mTypeError\u001b[0m                                 Traceback (most recent call last)",
      "\u001b[0;32m<ipython-input-21-5776c300c499>\u001b[0m in \u001b[0;36m<module>\u001b[0;34m()\u001b[0m\n\u001b[1;32m      1\u001b[0m \u001b[0ma\u001b[0m \u001b[0;34m=\u001b[0m \u001b[0msubmitFit\u001b[0m\u001b[0;34m\u001b[0m\u001b[0m\n\u001b[0;32m----> 2\u001b[0;31m \u001b[0ma\u001b[0m\u001b[0;34m[\u001b[0m\u001b[0;34m\"slope\"\u001b[0m\u001b[0;34m]\u001b[0m\u001b[0;34m\u001b[0m\u001b[0m\n\u001b[0m",
      "\u001b[0;31mTypeError\u001b[0m: 'function' object has no attribute '__getitem__'"
     ]
    }
   ],
   "source": [
    "a = submitFit\n",
    "a[\"slope\"]"
   ]
  },
  {
   "cell_type": "code",
   "execution_count": null,
   "metadata": {
    "collapsed": true
   },
   "outputs": [],
   "source": []
  }
 ],
 "metadata": {
  "anaconda-cloud": {},
  "kernelspec": {
   "display_name": "Python [conda env:python27]",
   "language": "python",
   "name": "conda-env-python27-py"
  },
  "language_info": {
   "codemirror_mode": {
    "name": "ipython",
    "version": 2
   },
   "file_extension": ".py",
   "mimetype": "text/x-python",
   "name": "python",
   "nbconvert_exporter": "python",
   "pygments_lexer": "ipython2",
   "version": "2.7.12"
  }
 },
 "nbformat": 4,
 "nbformat_minor": 1
}
