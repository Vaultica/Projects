{
 "cells": [
  {
   "cell_type": "markdown",
   "metadata": {},
   "source": [
    "** The Lending Club: Loan default prediction**\n",
    "\n",
    "*MLND Capstone Project Notebook*"
   ]
  },
  {
   "cell_type": "markdown",
   "metadata": {},
   "source": [
    "**II. Analysis **"
   ]
  },
  {
   "cell_type": "markdown",
   "metadata": {},
   "source": [
    "*Data Exploration*\n",
    "\n",
    "In this section, you will be expected to analyze the data you are using for the problem. This data can either be in the form of a dataset (or datasets), input data (or input files), or even an environment. The type of data should be thoroughly described and, if possible, have basic statistics and information presented (such as discussion of input features or defining characteristics about the input or environment). Any abnormalities or interesting qualities about the data that may need to be addressed have been identified (such as features that need to be transformed or the possibility of outliers). Questions to ask yourself when writing this section:\n",
    "- _If a dataset is present for this problem, have you thoroughly discussed certain features about the dataset? Has a data sample been provided to the reader?_\n",
    "- _If a dataset is present for this problem, are statistics about the dataset calculated and reported? Have any relevant results from this calculation been discussed?_\n",
    "- _If a dataset is **not** present for this problem, has discussion been made about the input space or input data for your problem?_\n",
    "- _Are there any abnormalities or characteristics about the input space or dataset that need to be addressed? (categorical variables, missing values, outliers, etc.)_\n",
    "\n"
   ]
  },
  {
   "cell_type": "code",
   "execution_count": 7,
   "metadata": {
    "collapsed": true
   },
   "outputs": [],
   "source": [
    "import matplotlib.pyplot as plt\n",
    "import numpy as np\n",
    "import pandas as pd\n",
    "import sqlite3\n",
    "import seaborn as sns\n",
    "from sklearn import tree\n",
    "%matplotlib inline"
   ]
  },
  {
   "cell_type": "code",
   "execution_count": 5,
   "metadata": {
    "collapsed": false
   },
   "outputs": [
    {
     "name": "stderr",
     "output_type": "stream",
     "text": [
      "/Users/sergeboo/Software/anaconda3/lib/python3.5/site-packages/IPython/core/interactiveshell.py:2717: DtypeWarning: Columns (19,55) have mixed types. Specify dtype option on import or set low_memory=False.\n",
      "  interactivity=interactivity, compiler=compiler, result=result)\n"
     ]
    },
    {
     "name": "stdout",
     "output_type": "stream",
     "text": [
      "Index(['id', 'member_id', 'loan_amnt', 'funded_amnt', 'funded_amnt_inv',\n",
      "       'term', 'int_rate', 'installment', 'grade', 'sub_grade', 'emp_title',\n",
      "       'emp_length', 'home_ownership', 'annual_inc', 'verification_status',\n",
      "       'issue_d', 'loan_status', 'pymnt_plan', 'url', 'desc', 'purpose',\n",
      "       'title', 'zip_code', 'addr_state', 'dti', 'delinq_2yrs',\n",
      "       'earliest_cr_line', 'inq_last_6mths', 'mths_since_last_delinq',\n",
      "       'mths_since_last_record', 'open_acc', 'pub_rec', 'revol_bal',\n",
      "       'revol_util', 'total_acc', 'initial_list_status', 'out_prncp',\n",
      "       'out_prncp_inv', 'total_pymnt', 'total_pymnt_inv', 'total_rec_prncp',\n",
      "       'total_rec_int', 'total_rec_late_fee', 'recoveries',\n",
      "       'collection_recovery_fee', 'last_pymnt_d', 'last_pymnt_amnt',\n",
      "       'next_pymnt_d', 'last_credit_pull_d', 'collections_12_mths_ex_med',\n",
      "       'mths_since_last_major_derog', 'policy_code', 'application_type',\n",
      "       'annual_inc_joint', 'dti_joint', 'verification_status_joint',\n",
      "       'acc_now_delinq', 'tot_coll_amt', 'tot_cur_bal', 'open_acc_6m',\n",
      "       'open_il_6m', 'open_il_12m', 'open_il_24m', 'mths_since_rcnt_il',\n",
      "       'total_bal_il', 'il_util', 'open_rv_12m', 'open_rv_24m', 'max_bal_bc',\n",
      "       'all_util', 'total_rev_hi_lim', 'inq_fi', 'total_cu_tl',\n",
      "       'inq_last_12m'],\n",
      "      dtype='object')\n"
     ]
    },
    {
     "name": "stderr",
     "output_type": "stream",
     "text": [
      "/Users/sergeboo/Software/anaconda3/lib/python3.5/site-packages/numpy/lib/function_base.py:3834: RuntimeWarning: Invalid value encountered in percentile\n",
      "  RuntimeWarning)\n"
     ]
    },
    {
     "name": "stdout",
     "output_type": "stream",
     "text": [
      "                 id     member_id      loan_amnt    funded_amnt  \\\n",
      "count  8.873790e+05  8.873790e+05  887379.000000  887379.000000   \n",
      "mean   3.246513e+07  3.500182e+07   14755.264605   14741.877625   \n",
      "std    2.282734e+07  2.411335e+07    8435.455601    8429.897657   \n",
      "min    5.473400e+04  7.047300e+04     500.000000     500.000000   \n",
      "25%    9.206643e+06  1.087713e+07    8000.000000    8000.000000   \n",
      "50%    3.443327e+07  3.709528e+07   13000.000000   13000.000000   \n",
      "75%    5.490814e+07  5.847135e+07   20000.000000   20000.000000   \n",
      "max    6.861706e+07  7.354484e+07   35000.000000   35000.000000   \n",
      "\n",
      "       funded_amnt_inv       int_rate    installment    annual_inc  \\\n",
      "count    887379.000000  887379.000000  887379.000000  8.873750e+05   \n",
      "mean      14702.464383      13.246740     436.717127  7.502759e+04   \n",
      "std        8442.106732       4.381867     244.186593  6.469830e+04   \n",
      "min           0.000000       5.320000      15.670000  0.000000e+00   \n",
      "25%        8000.000000       9.990000     260.705000           NaN   \n",
      "50%       13000.000000      12.990000     382.550000           NaN   \n",
      "75%       20000.000000      16.200000     572.600000           NaN   \n",
      "max       35000.000000      28.990000    1445.460000  9.500000e+06   \n",
      "\n",
      "                 dti    delinq_2yrs      ...        total_bal_il  \\\n",
      "count  887379.000000  887350.000000      ...        21372.000000   \n",
      "mean       18.157039       0.314442      ...        36552.811389   \n",
      "std        17.190626       0.862244      ...        43103.833619   \n",
      "min         0.000000       0.000000      ...            0.000000   \n",
      "25%        11.910000            NaN      ...                 NaN   \n",
      "50%        17.650000            NaN      ...                 NaN   \n",
      "75%        23.950000            NaN      ...                 NaN   \n",
      "max      9999.000000      39.000000      ...       878459.000000   \n",
      "\n",
      "            il_util   open_rv_12m   open_rv_24m     max_bal_bc      all_util  \\\n",
      "count  18617.000000  21372.000000  21372.000000   21372.000000  21372.000000   \n",
      "mean      71.535317      1.389060      2.975482    5887.979740     60.831939   \n",
      "std       23.022862      1.520129      2.631886    5284.701239     20.013254   \n",
      "min        0.000000      0.000000      0.000000       0.000000      0.000000   \n",
      "25%             NaN           NaN           NaN            NaN           NaN   \n",
      "50%             NaN           NaN           NaN            NaN           NaN   \n",
      "75%             NaN           NaN           NaN            NaN           NaN   \n",
      "max      223.300000     22.000000     43.000000  127305.000000    151.400000   \n",
      "\n",
      "       total_rev_hi_lim        inq_fi   total_cu_tl  inq_last_12m  \n",
      "count      8.171030e+05  21372.000000  21372.000000  21372.000000  \n",
      "mean       3.206862e+04      0.943945      1.537058      1.977307  \n",
      "std        3.749826e+04      1.446872      2.723339      2.874067  \n",
      "min        0.000000e+00      0.000000      0.000000     -4.000000  \n",
      "25%                 NaN           NaN           NaN           NaN  \n",
      "50%                 NaN           NaN           NaN           NaN  \n",
      "75%                 NaN           NaN           NaN           NaN  \n",
      "max        9.999999e+06     17.000000     35.000000     32.000000  \n",
      "\n",
      "[8 rows x 51 columns]\n",
      "['Fully Paid' 'Charged Off' 'Current' 'Default' 'Late (31-120 days)'\n",
      " 'In Grace Period' 'Late (16-30 days)'\n",
      " 'Does not meet the credit policy. Status:Fully Paid'\n",
      " 'Does not meet the credit policy. Status:Charged Off' 'Issued']\n"
     ]
    }
   ],
   "source": [
    "#df = pd.read_csv('loan.csv', na_values=['NA'], nrows=10000)\n",
    "df = pd.read_csv('/Users/sergeboo/Projects/machine-learning/kaggle/lending-club/loan.csv', na_values=['NA'])\n",
    "\n",
    "print (df.columns)\n",
    "print (df.describe())\n",
    "print (df['loan_status'].unique())"
   ]
  },
  {
   "cell_type": "code",
   "execution_count": 8,
   "metadata": {
    "collapsed": false
   },
   "outputs": [
    {
     "name": "stdout",
     "output_type": "stream",
     "text": [
      "How many null descriptions? 761350\n",
      "Average length of Description Text 239.9646271889803\n"
     ]
    },
    {
     "name": "stderr",
     "output_type": "stream",
     "text": [
      "/Users/sergeboo/Software/anaconda3/lib/python3.5/site-packages/statsmodels/nonparametric/kdetools.py:20: VisibleDeprecationWarning: using a non-integer number instead of an integer will result in an error in the future\n",
      "  y = X[:m/2+1] + np.r_[0,X[m/2+1:],0]*1j\n"
     ]
    },
    {
     "data": {
      "text/plain": [
       "<matplotlib.axes._subplots.AxesSubplot at 0x1170d6da0>"
      ]
     },
     "execution_count": 8,
     "metadata": {},
     "output_type": "execute_result"
    },
    {
     "data": {
      "image/png": "[encoded data removed]",
      "text/plain": [
       "<matplotlib.figure.Figure at 0x1170b3160>"
      ]
     },
     "metadata": {},
     "output_type": "display_data"
    }
   ],
   "source": [
    "# How many null descriptions\n",
    "print (\"How many null descriptions? {}\".format(len(df[df['desc'].isnull()])))\n",
    "\n",
    "# Average length of non null descriptions\n",
    "print (\"Average length of Description Text {}\".format(df['desc'].dropna().str.len().mean()))\n",
    "\n",
    "sns.distplot(df['desc'].dropna().str.len())"
   ]
  },
  {
   "cell_type": "code",
   "execution_count": 6,
   "metadata": {
    "collapsed": false
   },
   "outputs": [
    {
     "name": "stdout",
     "output_type": "stream",
     "text": [
      "80\n",
      "['LoanStatNew', 'Description']\n"
     ]
    },
    {
     "data": {
      "text/html": [
       "<div>\n",
       "<table border=\"1\" class=\"dataframe\">\n",
       "  <thead>\n",
       "    <tr style=\"text-align: right;\">\n",
       "      <th></th>\n",
       "      <th>LoanStatNew</th>\n",
       "      <th>Description</th>\n",
       "    </tr>\n",
       "  </thead>\n",
       "  <tbody>\n",
       "    <tr>\n",
       "      <th>0</th>\n",
       "      <td>addr_state</td>\n",
       "      <td>The state provided by the borrower in the loan...</td>\n",
       "    </tr>\n",
       "    <tr>\n",
       "      <th>1</th>\n",
       "      <td>annual_inc</td>\n",
       "      <td>The self-reported annual income provided by th...</td>\n",
       "    </tr>\n",
       "    <tr>\n",
       "      <th>2</th>\n",
       "      <td>annual_inc_joint</td>\n",
       "      <td>The combined self-reported annual income provi...</td>\n",
       "    </tr>\n",
       "    <tr>\n",
       "      <th>3</th>\n",
       "      <td>application_type</td>\n",
       "      <td>Indicates whether the loan is an individual ap...</td>\n",
       "    </tr>\n",
       "    <tr>\n",
       "      <th>4</th>\n",
       "      <td>collection_recovery_fee</td>\n",
       "      <td>post charge off collection fee</td>\n",
       "    </tr>\n",
       "    <tr>\n",
       "      <th>5</th>\n",
       "      <td>collections_12_mths_ex_med</td>\n",
       "      <td>Number of collections in 12 months excluding m...</td>\n",
       "    </tr>\n",
       "    <tr>\n",
       "      <th>6</th>\n",
       "      <td>delinq_2yrs</td>\n",
       "      <td>The number of 30+ days past-due incidences of ...</td>\n",
       "    </tr>\n",
       "    <tr>\n",
       "      <th>7</th>\n",
       "      <td>desc</td>\n",
       "      <td>Loan description provided by the borrower</td>\n",
       "    </tr>\n",
       "    <tr>\n",
       "      <th>8</th>\n",
       "      <td>dti</td>\n",
       "      <td>A ratio calculated using the borrower’s total ...</td>\n",
       "    </tr>\n",
       "    <tr>\n",
       "      <th>9</th>\n",
       "      <td>dti_joint</td>\n",
       "      <td>A ratio calculated using the co-borrowers' tot...</td>\n",
       "    </tr>\n",
       "  </tbody>\n",
       "</table>\n",
       "</div>"
      ],
      "text/plain": [
       "                  LoanStatNew  \\\n",
       "0                  addr_state   \n",
       "1                  annual_inc   \n",
       "2            annual_inc_joint   \n",
       "3            application_type   \n",
       "4     collection_recovery_fee   \n",
       "5  collections_12_mths_ex_med   \n",
       "6                 delinq_2yrs   \n",
       "7                        desc   \n",
       "8                         dti   \n",
       "9                   dti_joint   \n",
       "\n",
       "                                         Description  \n",
       "0  The state provided by the borrower in the loan...  \n",
       "1  The self-reported annual income provided by th...  \n",
       "2  The combined self-reported annual income provi...  \n",
       "3  Indicates whether the loan is an individual ap...  \n",
       "4                     post charge off collection fee  \n",
       "5  Number of collections in 12 months excluding m...  \n",
       "6  The number of 30+ days past-due incidences of ...  \n",
       "7          Loan description provided by the borrower  \n",
       "8  A ratio calculated using the borrower’s total ...  \n",
       "9  A ratio calculated using the co-borrowers' tot...  "
      ]
     },
     "execution_count": 6,
     "metadata": {},
     "output_type": "execute_result"
    }
   ],
   "source": [
    "data_dictionary = pd.read_excel('/Users/sergeboo/Projects/machine-learning/kaggle/lending-club/LCDataDictionary.xlsx')\n",
    "\n",
    "print(data_dictionary.shape[0])\n",
    "print(data_dictionary.columns.tolist())\n",
    "\n",
    "data_dictionary.rename(columns={'LoanStatNew': 'name',\n",
    "                                'Description': 'description'})\n",
    "data_dictionary.head(10)"
   ]
  },
  {
   "cell_type": "code",
   "execution_count": null,
   "metadata": {
    "collapsed": true
   },
   "outputs": [],
   "source": [
    "categorical_cols = ['grade', 'sub_grade', 'purpose', 'loan_status', 'home_ownership', 'emp_length', 'application_type']\n",
    "id_cols = ['id', 'member_id', '']\n",
    "time_cols = ['term', 'mths_since_last_record', 'issue_d', 'last_pymnt_d', 'next_pymnt_d']\n",
    "status_cols = ['loan_status', 'verification_status', 'initial_list_status']\n",
    "location_cols = ['zip_code', 'addr_state']\n",
    "numerical_cols = ['loan_amnt', 'funded_amnt', 'funded_amnt_inv', 'int_rate', \\\n",
    "                  'total_pymnt', 'annual_inc', 'installment', 'open_acc', 'dti', 'emp_length' , 'out_prncp']\n",
    "desc_cols = ['url', 'desc', 'title']\n",
    "\n",
    "print(df[categorical_cols].head(30))\n",
    "print(df[time_cols].head(30))\n",
    "print(df[numerical_cols].head(30))\n",
    "print(df[location_cols].head(30))\n",
    "print(df[time_cols].head(30))\n",
    "print(df[desc_cols].head(30))"
   ]
  },
  {
   "cell_type": "code",
   "execution_count": 11,
   "metadata": {
    "collapsed": false
   },
   "outputs": [
    {
     "name": "stdout",
     "output_type": "stream",
     "text": [
      "<class 'pandas.core.frame.DataFrame'>\n",
      "RangeIndex: 887379 entries, 0 to 887378\n",
      "Data columns (total 51 columns):\n",
      "id                            887379 non-null int64\n",
      "member_id                     887379 non-null int64\n",
      "loan_amnt                     887379 non-null float64\n",
      "funded_amnt                   887379 non-null float64\n",
      "funded_amnt_inv               887379 non-null float64\n",
      "term                          887379 non-null object\n",
      "int_rate                      887379 non-null float64\n",
      "installment                   887379 non-null float64\n",
      "grade                         887379 non-null object\n",
      "sub_grade                     887379 non-null object\n",
      "emp_title                     835922 non-null object\n",
      "emp_length                    887379 non-null object\n",
      "home_ownership                887379 non-null object\n",
      "annual_inc                    887375 non-null float64\n",
      "verification_status           887379 non-null object\n",
      "issue_d                       887379 non-null object\n",
      "loan_status                   887379 non-null object\n",
      "pymnt_plan                    887379 non-null object\n",
      "purpose                       887379 non-null object\n",
      "zip_code                      887379 non-null object\n",
      "addr_state                    887379 non-null object\n",
      "dti                           887379 non-null float64\n",
      "delinq_2yrs                   887350 non-null float64\n",
      "earliest_cr_line              887350 non-null object\n",
      "inq_last_6mths                887350 non-null float64\n",
      "open_acc                      887350 non-null float64\n",
      "pub_rec                       887350 non-null float64\n",
      "revol_bal                     887379 non-null float64\n",
      "revol_util                    886877 non-null float64\n",
      "total_acc                     887350 non-null float64\n",
      "initial_list_status           887379 non-null object\n",
      "out_prncp                     887379 non-null float64\n",
      "out_prncp_inv                 887379 non-null float64\n",
      "total_pymnt                   887379 non-null float64\n",
      "total_pymnt_inv               887379 non-null float64\n",
      "total_rec_prncp               887379 non-null float64\n",
      "total_rec_int                 887379 non-null float64\n",
      "total_rec_late_fee            887379 non-null float64\n",
      "recoveries                    887379 non-null float64\n",
      "collection_recovery_fee       887379 non-null float64\n",
      "last_pymnt_d                  869720 non-null object\n",
      "last_pymnt_amnt               887379 non-null float64\n",
      "next_pymnt_d                  634408 non-null object\n",
      "last_credit_pull_d            887326 non-null object\n",
      "collections_12_mths_ex_med    887234 non-null float64\n",
      "policy_code                   887379 non-null float64\n",
      "application_type              887379 non-null object\n",
      "acc_now_delinq                887350 non-null float64\n",
      "tot_coll_amt                  817103 non-null float64\n",
      "tot_cur_bal                   817103 non-null float64\n",
      "total_rev_hi_lim              817103 non-null float64\n",
      "dtypes: float64(30), int64(2), object(19)\n",
      "memory usage: 345.3+ MB\n"
     ]
    },
    {
     "data": {
      "text/html": [
       "<div>\n",
       "<table border=\"1\" class=\"dataframe\">\n",
       "  <thead>\n",
       "    <tr style=\"text-align: right;\">\n",
       "      <th></th>\n",
       "      <th>Loan Status</th>\n",
       "      <th>Count</th>\n",
       "      <th>Meaning</th>\n",
       "    </tr>\n",
       "  </thead>\n",
       "  <tbody>\n",
       "    <tr>\n",
       "      <th>0</th>\n",
       "      <td>Current</td>\n",
       "      <td>601779</td>\n",
       "      <td>Loan is up to date on all outstanding payments.</td>\n",
       "    </tr>\n",
       "    <tr>\n",
       "      <th>1</th>\n",
       "      <td>Fully Paid</td>\n",
       "      <td>207723</td>\n",
       "      <td>Loan has been fully repaid, either at the expiration of the 3- or 5-year year term or as a result of a prepayment.</td>\n",
       "    </tr>\n",
       "    <tr>\n",
       "      <th>2</th>\n",
       "      <td>Charged Off</td>\n",
       "      <td>45248</td>\n",
       "      <td>Loan for which there is no longer a reasonable expectation of further payments. Generally, Charge Off occurs no later than 30 days after the Default status is reached.</td>\n",
       "    </tr>\n",
       "    <tr>\n",
       "      <th>3</th>\n",
       "      <td>Late (31-120 days)</td>\n",
       "      <td>11591</td>\n",
       "      <td>Loan has not been current for 31 to 120 days. Learn more about the tools Lending Club has to deal with delinquent borrowers.</td>\n",
       "    </tr>\n",
       "    <tr>\n",
       "      <th>4</th>\n",
       "      <td>Issued</td>\n",
       "      <td>8460</td>\n",
       "      <td>New loan that has passed all Lending Club reviews, received full funding, and has been issued.</td>\n",
       "    </tr>\n",
       "    <tr>\n",
       "      <th>5</th>\n",
       "      <td>In Grace Period</td>\n",
       "      <td>6253</td>\n",
       "      <td>Loan is past due but within the 15-day grace period.</td>\n",
       "    </tr>\n",
       "    <tr>\n",
       "      <th>6</th>\n",
       "      <td>Late (16-30 days)</td>\n",
       "      <td>2357</td>\n",
       "      <td>Loan has not been current for 16 to 30 days. Learn more about the tools Lending Club has to deal with delinquent borrowers.</td>\n",
       "    </tr>\n",
       "    <tr>\n",
       "      <th>7</th>\n",
       "      <td>Does not meet the credit policy. Status:Fully Paid</td>\n",
       "      <td>1988</td>\n",
       "      <td>Does not meet the credit policy. Status:Fully ...</td>\n",
       "    </tr>\n",
       "    <tr>\n",
       "      <th>8</th>\n",
       "      <td>Default</td>\n",
       "      <td>1219</td>\n",
       "      <td>Loan has not been current for 121 days or more. Learn more about the difference between “default” and “charge off”.</td>\n",
       "    </tr>\n",
       "    <tr>\n",
       "      <th>9</th>\n",
       "      <td>Does not meet the credit policy. Status:Charged Off</td>\n",
       "      <td>761</td>\n",
       "      <td>Does not meet the credit policy. Status:Charge...</td>\n",
       "    </tr>\n",
       "  </tbody>\n",
       "</table>\n",
       "</div>"
      ],
      "text/plain": [
       "                                           Loan Status   Count  \\\n",
       "0                                              Current  601779   \n",
       "1                                           Fully Paid  207723   \n",
       "2                                          Charged Off   45248   \n",
       "3                                   Late (31-120 days)   11591   \n",
       "4                                               Issued    8460   \n",
       "5                                      In Grace Period    6253   \n",
       "6                                    Late (16-30 days)    2357   \n",
       "7   Does not meet the credit policy. Status:Fully Paid    1988   \n",
       "8                                              Default    1219   \n",
       "9  Does not meet the credit policy. Status:Charged Off     761   \n",
       "\n",
       "                                                                                                                                                                   Meaning  \n",
       "0                                                                                                                          Loan is up to date on all outstanding payments.  \n",
       "1                                                       Loan has been fully repaid, either at the expiration of the 3- or 5-year year term or as a result of a prepayment.  \n",
       "2  Loan for which there is no longer a reasonable expectation of further payments. Generally, Charge Off occurs no later than 30 days after the Default status is reached.  \n",
       "3                                             Loan has not been current for 31 to 120 days. Learn more about the tools Lending Club has to deal with delinquent borrowers.  \n",
       "4                                                                           New loan that has passed all Lending Club reviews, received full funding, and has been issued.  \n",
       "5                                                                                                                     Loan is past due but within the 15-day grace period.  \n",
       "6                                              Loan has not been current for 16 to 30 days. Learn more about the tools Lending Club has to deal with delinquent borrowers.  \n",
       "7                                                                                                                        Does not meet the credit policy. Status:Fully ...  \n",
       "8                                                      Loan has not been current for 121 days or more. Learn more about the difference between “default” and “charge off”.  \n",
       "9                                                                                                                        Does not meet the credit policy. Status:Charge...  "
      ]
     },
     "execution_count": 11,
     "metadata": {},
     "output_type": "execute_result"
    }
   ],
   "source": [
    "# Code here\n",
    "half_count = len(df) / 2\n",
    "df_loans = df.dropna(thresh=half_count, axis=1) # Drop any column with more than 50% missing values\n",
    "df_loans = df_loans.drop(['url','title'], axis=1)      # These columns are not useful for our purpose\n",
    "df_loans.info()\n",
    "\n",
    "status_meaning = [\n",
    "    \"Loan is up to date on all outstanding payments.\",\n",
    "    \"Loan has been fully repaid, either at the expiration of the 3- or 5-year year term or as a result of a prepayment.\",\n",
    "    \"Loan for which there is no longer a reasonable expectation of further payments. Generally, Charge Off occurs no later than 30 days after the Default status is reached.\",\n",
    "    \"Loan has not been current for 31 to 120 days. Learn more about the tools Lending Club has to deal with delinquent borrowers.\",\n",
    "    \"New loan that has passed all Lending Club reviews, received full funding, and has been issued.\",\n",
    "    \"Loan is past due but within the 15-day grace period.\",\n",
    "    'Loan has not been current for 16 to 30 days. Learn more about the tools Lending Club has to deal with delinquent borrowers.',\n",
    "    \"Does not meet the credit policy. Status:Fully ...\",\n",
    "    \"Loan has not been current for 121 days or more. Learn more about the difference between “default” and “charge off”.\",\n",
    "    \"Does not meet the credit policy. Status:Charge...\"]\n",
    "\n",
    "status, count = df_loans[\"loan_status\"].value_counts().index, df_loans[\"loan_status\"].value_counts().values\n",
    "\n",
    "loan_statuses_explanation = pd.DataFrame({'Loan Status': status, 'Count': count, 'Meaning': status_meaning})[['Loan Status', 'Count', 'Meaning']]\n",
    "\n",
    "pd.set_option('display.max_colwidth', 255)\n",
    "\n",
    "loan_statuses_explanation"
   ]
  },
  {
   "cell_type": "markdown",
   "metadata": {},
   "source": [
    "*Exploratory Visualization*\n",
    "\n",
    "In this section, you will need to provide some form of visualization that summarizes or extracts a relevant characteristic or feature about the data. The visualization should adequately support the data being used. Discuss why this visualization was chosen and how it is relevant. Questions to ask yourself when writing this section:\n",
    "- _Have you visualized a relevant characteristic or feature about the dataset or input data?_\n",
    "- _Is the visualization thoroughly analyzed and discussed?_\n",
    "- _If a plot is provided, are the axes, title, and datum clearly defined?_\n",
    "\n"
   ]
  },
  {
   "cell_type": "code",
   "execution_count": null,
   "metadata": {
    "collapsed": true
   },
   "outputs": [],
   "source": [
    "sns.pairplot(df[['loan_amnt', 'funded_amnt', 'funded_amnt_inv', 'total_pymnt', \\\n",
    "                  'dti', 'loan_status']].dropna(), hue='loan_status')"
   ]
  },
  {
   "cell_type": "code",
   "execution_count": null,
   "metadata": {
    "collapsed": true
   },
   "outputs": [],
   "source": [
    "plt.xticks(rotation=90)\n",
    "plt.xlabel('Loan Status')\n",
    "\n",
    "df_status = df.loc[df['loan_status'].isin(['Current','Charged Off','Default','Fully Paid','In Grace Period','Late (16-30 days)','Late (31-120 days)'])]\n",
    "\n",
    "sns.countplot(df_status['loan_status'], palette='Set2')"
   ]
  },
  {
   "cell_type": "code",
   "execution_count": null,
   "metadata": {
    "collapsed": true
   },
   "outputs": [],
   "source": [
    "df['loan_status'].value_counts()"
   ]
  },
  {
   "cell_type": "code",
   "execution_count": null,
   "metadata": {
    "collapsed": true
   },
   "outputs": [],
   "source": [
    "sns.distplot(df['loan_amnt'])"
   ]
  },
  {
   "cell_type": "code",
   "execution_count": null,
   "metadata": {
    "collapsed": true
   },
   "outputs": [],
   "source": [
    "sns.stripplot(data=df[['loan_status','int_rate', 'purpose']], x='loan_status', y='int_rate', jitter=True, hue='purpose')"
   ]
  },
  {
   "cell_type": "code",
   "execution_count": null,
   "metadata": {
    "collapsed": true
   },
   "outputs": [],
   "source": [
    "plt.xticks(rotation=90)\n",
    "sns.violinplot(data=df[['loan_status','int_rate', 'purpose']], x='loan_status', y='int_rate')"
   ]
  },
  {
   "cell_type": "markdown",
   "metadata": {},
   "source": [
    "*Algorithms and Techniques*\n",
    "\n",
    "In this section, you will need to discuss the algorithms and techniques you intend to use for solving the problem. You should justify the use of each one based on the characteristics of the problem and the problem domain. Questions to ask yourself when writing this section:\n",
    "- _Are the algorithms you will use, including any default variables/parameters in the project clearly defined?_\n",
    "- _Are the techniques to be used thoroughly discussed and justified?_\n",
    "- _Is it made clear how the input data or datasets will be handled by the algorithms and techniques chosen?_\n",
    "\n"
   ]
  },
  {
   "cell_type": "code",
   "execution_count": null,
   "metadata": {
    "collapsed": true
   },
   "outputs": [],
   "source": []
  },
  {
   "cell_type": "markdown",
   "metadata": {},
   "source": [
    "*Benchmark*\n",
    "\n",
    "In this section, you will need to provide a clearly defined benchmark result or threshold for comparing across performances obtained by your solution. The reasoning behind the benchmark (in the case where it is not an established result) should be discussed. Questions to ask yourself when writing this section:\n",
    "- _Has some result or value been provided that acts as a benchmark for measuring performance?_\n",
    "- _Is it clear how this result or value was obtained (whether by data or by hypothesis)?_\n"
   ]
  },
  {
   "cell_type": "code",
   "execution_count": null,
   "metadata": {
    "collapsed": true
   },
   "outputs": [],
   "source": []
  },
  {
   "cell_type": "markdown",
   "metadata": {},
   "source": [
    "**III. Methodology**"
   ]
  },
  {
   "cell_type": "markdown",
   "metadata": {},
   "source": [
    "*Data Preprocessing*\n",
    "\n",
    "In this section, all of your preprocessing steps will need to be clearly documented, if any were necessary. From the previous section, any of the abnormalities or characteristics that you identified about the dataset will be addressed and corrected here. Questions to ask yourself when writing this section:\n",
    "- _If the algorithms chosen require preprocessing steps like feature selection or feature transformations, have they been properly documented?_\n",
    "- _Based on the **Data Exploration** section, if there were abnormalities or characteristics that needed to be addressed, have they been properly corrected?_\n",
    "- _If no preprocessing is needed, has it been made clear why?_\n"
   ]
  },
  {
   "cell_type": "code",
   "execution_count": null,
   "metadata": {
    "collapsed": true
   },
   "outputs": [],
   "source": []
  },
  {
   "cell_type": "markdown",
   "metadata": {},
   "source": [
    "*Implementation*\n",
    "\n",
    "In this section, the process for which metrics, algorithms, and techniques that you implemented for the given data will need to be clearly documented. It should be abundantly clear how the implementation was carried out, and discussion should be made regarding any complications that occurred during this process. Questions to ask yourself when writing this section:\n",
    "- _Is it made clear how the algorithms and techniques were implemented with the given datasets or input data?_\n",
    "- _Were there any complications with the original metrics or techniques that required changing prior to acquiring a solution?_\n",
    "- _Was there any part of the coding process (e.g., writing complicated functions) that should be documented?_\n",
    "\n"
   ]
  },
  {
   "cell_type": "code",
   "execution_count": null,
   "metadata": {
    "collapsed": true
   },
   "outputs": [],
   "source": []
  },
  {
   "cell_type": "markdown",
   "metadata": {},
   "source": [
    "*Refinement*\n",
    "\n",
    "In this section, you will need to discuss the process of improvement you made upon the algorithms and techniques you used in your implementation. For example, adjusting parameters for certain models to acquire improved solutions would fall under the refinement category. Your initial and final solutions should be reported, as well as any significant intermediate results as necessary. Questions to ask yourself when writing this section:\n",
    "- _Has an initial solution been found and clearly reported?_\n",
    "- _Is the process of improvement clearly documented, such as what techniques were used?_\n",
    "- _Are intermediate and final solutions clearly reported as the process is improved?_\n",
    "\n"
   ]
  },
  {
   "cell_type": "code",
   "execution_count": null,
   "metadata": {
    "collapsed": true
   },
   "outputs": [],
   "source": []
  },
  {
   "cell_type": "markdown",
   "metadata": {},
   "source": [
    "** IV. Results **"
   ]
  },
  {
   "cell_type": "markdown",
   "metadata": {},
   "source": [
    "*Model Evaluation and Validation*\n",
    "\n",
    "In this section, the final model and any supporting qualities should be evaluated in detail. It should be clear how the final model was derived and why this model was chosen. In addition, some type of analysis should be used to validate the robustness of this model and its solution, such as manipulating the input data or environment to see how the model’s solution is affected (this is called sensitivity analysis). Questions to ask yourself when writing this section:\n",
    "- _Is the final model reasonable and aligning with solution expectations? Are the final parameters of the model appropriate?_\n",
    "- _Has the final model been tested with various inputs to evaluate whether the model generalizes well to unseen data?_\n",
    "- _Is the model robust enough for the problem? Do small perturbations (changes) in training data or the input space greatly affect the results?_\n",
    "- _Can results found from the model be trusted?_\n"
   ]
  },
  {
   "cell_type": "code",
   "execution_count": null,
   "metadata": {
    "collapsed": true
   },
   "outputs": [],
   "source": []
  },
  {
   "cell_type": "markdown",
   "metadata": {},
   "source": [
    "*Justification*\n",
    "\n",
    "In this section, your model’s final solution and its results should be compared to the benchmark you established earlier in the project using some type of statistical analysis. You should also justify whether these results and the solution are significant enough to have solved the problem posed in the project. Questions to ask yourself when writing this section:\n",
    "- _Are the final results found stronger than the benchmark result reported earlier?_\n",
    "- _Have you thoroughly analyzed and discussed the final solution?_\n",
    "- _Is the final solution significant enough to have solved the problem?_"
   ]
  },
  {
   "cell_type": "code",
   "execution_count": null,
   "metadata": {
    "collapsed": true
   },
   "outputs": [],
   "source": []
  },
  {
   "cell_type": "code",
   "execution_count": null,
   "metadata": {
    "collapsed": true
   },
   "outputs": [],
   "source": []
  }
 ],
 "metadata": {
  "anaconda-cloud": {},
  "kernelspec": {
   "display_name": "Python [conda root]",
   "language": "python",
   "name": "conda-root-py"
  },
  "language_info": {
   "codemirror_mode": {
    "name": "ipython",
    "version": 3
   },
   "file_extension": ".py",
   "mimetype": "text/x-python",
   "name": "python",
   "nbconvert_exporter": "python",
   "pygments_lexer": "ipython3",
   "version": "3.5.2"
  }
 },
 "nbformat": 4,
 "nbformat_minor": 1
}
