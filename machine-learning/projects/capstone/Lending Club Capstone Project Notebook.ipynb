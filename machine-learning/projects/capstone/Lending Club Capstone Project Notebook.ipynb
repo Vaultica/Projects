{
 "cells": [
  {
   "cell_type": "markdown",
   "metadata": {},
   "source": [
    "*** The Lending Club: Loan default prediction ***\n",
    "\n",
    "*MLND Capstone Project Notebook*"
   ]
  },
  {
   "cell_type": "markdown",
   "metadata": {},
   "source": [
    "**II. Analysis **"
   ]
  },
  {
   "cell_type": "markdown",
   "metadata": {},
   "source": [
    "*Data Exploration*\n",
    "\n",
    "In this section, you will be expected to analyze the data you are using for the problem. This data can either be in the form of a dataset (or datasets), input data (or input files), or even an environment. The type of data should be thoroughly described and, if possible, have basic statistics and information presented (such as discussion of input features or defining characteristics about the input or environment). Any abnormalities or interesting qualities about the data that may need to be addressed have been identified (such as features that need to be transformed or the possibility of outliers). Questions to ask yourself when writing this section:\n",
    "- _If a dataset is present for this problem, have you thoroughly discussed certain features about the dataset? Has a data sample been provided to the reader?_\n",
    "- _If a dataset is present for this problem, are statistics about the dataset calculated and reported? Have any relevant results from this calculation been discussed?_\n",
    "- _If a dataset is **not** present for this problem, has discussion been made about the input space or input data for your problem?_\n",
    "- _Are there any abnormalities or characteristics about the input space or dataset that need to be addressed? (categorical variables, missing values, outliers, etc.)_\n",
    "\n"
   ]
  },
  {
   "cell_type": "code",
   "execution_count": 1,
   "metadata": {
    "collapsed": true
   },
   "outputs": [],
   "source": [
    "import matplotlib.pyplot as plt\n",
    "import numpy as np\n",
    "import pandas as pd\n",
    "import sqlite3\n",
    "import seaborn as sns\n",
    "from sklearn import tree\n",
    "%matplotlib inline"
   ]
  },
  {
   "cell_type": "code",
   "execution_count": 2,
   "metadata": {
    "collapsed": false
   },
   "outputs": [],
   "source": [
    "def load_loan_data(threshold=1, path='/Users/sergeboo/Projects/machine-learning/kaggle/lending-club/'):\n",
    "    #df = pd.read_csv('loan.csv', na_values=['NA'], nrows=10000)\n",
    "    data = pd.read_csv('/Users/sergeboo/Projects/machine-learning/kaggle/lending-club/loan.csv')#, na_values=['NA'])\n",
    "\n",
    "    t = len(data) / threshold\n",
    "    data = data.dropna(thresh=t, axis=1) # Drop any column with more than 50% missing values\n",
    "\n",
    "    return data\n",
    "\n",
    "#df = load_loan_data(threshold=2)"
   ]
  },
  {
   "cell_type": "code",
   "execution_count": 3,
   "metadata": {
    "collapsed": true
   },
   "outputs": [],
   "source": [
    "def filter_data(df, cond):\n",
    "    # eg df['age']>=50\n",
    "    df = df[np.where(cond)]\n",
    "    return df"
   ]
  },
  {
   "cell_type": "code",
   "execution_count": 4,
   "metadata": {
    "collapsed": false
   },
   "outputs": [],
   "source": [
    "def show_desc_stats(df):\n",
    "     # How many null descriptions\n",
    "     print (\"How many null descriptions? {}\".format(len(df[df['desc'].isnull()])))\n",
    "\n",
    "     # Average length of non null descriptions\n",
    "     print (\"Average length of Description Text {}\".format(df['desc'].dropna().str.len().mean()))\n",
    "\n",
    "     sns.distplot(df['desc'].dropna().str.len())"
   ]
  },
  {
   "cell_type": "code",
   "execution_count": 381,
   "metadata": {
    "collapsed": false
   },
   "outputs": [
    {
     "name": "stdout",
     "output_type": "stream",
     "text": [
      "Number of records 887379\n",
      "Dataset Shape (887379, 74)\n"
     ]
    }
   ],
   "source": [
    "print (\"Number of records {}\".format(len(df)))\n",
    "print (\"Dataset Shape {}\".format(df.shape))"
   ]
  },
  {
   "cell_type": "code",
   "execution_count": 278,
   "metadata": {
    "collapsed": false
   },
   "outputs": [
    {
     "name": "stderr",
     "output_type": "stream",
     "text": [
      "/Users/sergeboo/Software/anaconda3/lib/python3.5/site-packages/numpy/lib/function_base.py:3834: RuntimeWarning: Invalid value encountered in percentile\n",
      "  RuntimeWarning)\n"
     ]
    },
    {
     "data": {
      "text/html": [
       "<div>\n",
       "<table border=\"1\" class=\"dataframe\">\n",
       "  <thead>\n",
       "    <tr style=\"text-align: right;\">\n",
       "      <th></th>\n",
       "      <th>id</th>\n",
       "      <th>member_id</th>\n",
       "      <th>loan_amnt</th>\n",
       "      <th>funded_amnt</th>\n",
       "      <th>funded_amnt_inv</th>\n",
       "      <th>int_rate</th>\n",
       "      <th>installment</th>\n",
       "      <th>annual_inc</th>\n",
       "      <th>dti</th>\n",
       "      <th>delinq_2yrs</th>\n",
       "      <th>...</th>\n",
       "      <th>total_rec_late_fee</th>\n",
       "      <th>recoveries</th>\n",
       "      <th>collection_recovery_fee</th>\n",
       "      <th>last_pymnt_amnt</th>\n",
       "      <th>collections_12_mths_ex_med</th>\n",
       "      <th>policy_code</th>\n",
       "      <th>acc_now_delinq</th>\n",
       "      <th>tot_coll_amt</th>\n",
       "      <th>tot_cur_bal</th>\n",
       "      <th>total_rev_hi_lim</th>\n",
       "    </tr>\n",
       "  </thead>\n",
       "  <tbody>\n",
       "    <tr>\n",
       "      <th>count</th>\n",
       "      <td>887379.000</td>\n",
       "      <td>887379.000</td>\n",
       "      <td>887379.000</td>\n",
       "      <td>887379.000</td>\n",
       "      <td>887379.000</td>\n",
       "      <td>887379.000</td>\n",
       "      <td>887379.000</td>\n",
       "      <td>887375.000</td>\n",
       "      <td>887379.000</td>\n",
       "      <td>887350.000</td>\n",
       "      <td>...</td>\n",
       "      <td>887379.000</td>\n",
       "      <td>887379.000</td>\n",
       "      <td>887379.000</td>\n",
       "      <td>887379.000</td>\n",
       "      <td>887234.000</td>\n",
       "      <td>887379.000</td>\n",
       "      <td>887350.000</td>\n",
       "      <td>817103.000</td>\n",
       "      <td>817103.000</td>\n",
       "      <td>817103.000</td>\n",
       "    </tr>\n",
       "    <tr>\n",
       "      <th>mean</th>\n",
       "      <td>32465133.055</td>\n",
       "      <td>35001824.816</td>\n",
       "      <td>14755.265</td>\n",
       "      <td>14741.878</td>\n",
       "      <td>14702.464</td>\n",
       "      <td>13.247</td>\n",
       "      <td>436.717</td>\n",
       "      <td>75027.588</td>\n",
       "      <td>18.157</td>\n",
       "      <td>0.314</td>\n",
       "      <td>...</td>\n",
       "      <td>0.397</td>\n",
       "      <td>45.919</td>\n",
       "      <td>4.881</td>\n",
       "      <td>2164.146</td>\n",
       "      <td>0.014</td>\n",
       "      <td>1.000</td>\n",
       "      <td>0.005</td>\n",
       "      <td>225.703</td>\n",
       "      <td>139458.189</td>\n",
       "      <td>32068.620</td>\n",
       "    </tr>\n",
       "    <tr>\n",
       "      <th>std</th>\n",
       "      <td>22827341.721</td>\n",
       "      <td>24113354.676</td>\n",
       "      <td>8435.456</td>\n",
       "      <td>8429.898</td>\n",
       "      <td>8442.107</td>\n",
       "      <td>4.382</td>\n",
       "      <td>244.187</td>\n",
       "      <td>64698.300</td>\n",
       "      <td>17.191</td>\n",
       "      <td>0.862</td>\n",
       "      <td>...</td>\n",
       "      <td>4.088</td>\n",
       "      <td>409.694</td>\n",
       "      <td>63.125</td>\n",
       "      <td>4794.783</td>\n",
       "      <td>0.134</td>\n",
       "      <td>0.000</td>\n",
       "      <td>0.078</td>\n",
       "      <td>10311.367</td>\n",
       "      <td>153749.967</td>\n",
       "      <td>37498.258</td>\n",
       "    </tr>\n",
       "    <tr>\n",
       "      <th>min</th>\n",
       "      <td>54734.000</td>\n",
       "      <td>70473.000</td>\n",
       "      <td>500.000</td>\n",
       "      <td>500.000</td>\n",
       "      <td>0.000</td>\n",
       "      <td>5.320</td>\n",
       "      <td>15.670</td>\n",
       "      <td>0.000</td>\n",
       "      <td>0.000</td>\n",
       "      <td>0.000</td>\n",
       "      <td>...</td>\n",
       "      <td>0.000</td>\n",
       "      <td>0.000</td>\n",
       "      <td>0.000</td>\n",
       "      <td>0.000</td>\n",
       "      <td>0.000</td>\n",
       "      <td>1.000</td>\n",
       "      <td>0.000</td>\n",
       "      <td>0.000</td>\n",
       "      <td>0.000</td>\n",
       "      <td>0.000</td>\n",
       "    </tr>\n",
       "    <tr>\n",
       "      <th>25%</th>\n",
       "      <td>9206643.000</td>\n",
       "      <td>10877133.500</td>\n",
       "      <td>8000.000</td>\n",
       "      <td>8000.000</td>\n",
       "      <td>8000.000</td>\n",
       "      <td>9.990</td>\n",
       "      <td>260.705</td>\n",
       "      <td>nan</td>\n",
       "      <td>11.910</td>\n",
       "      <td>nan</td>\n",
       "      <td>...</td>\n",
       "      <td>0.000</td>\n",
       "      <td>0.000</td>\n",
       "      <td>0.000</td>\n",
       "      <td>280.170</td>\n",
       "      <td>nan</td>\n",
       "      <td>1.000</td>\n",
       "      <td>nan</td>\n",
       "      <td>nan</td>\n",
       "      <td>nan</td>\n",
       "      <td>nan</td>\n",
       "    </tr>\n",
       "    <tr>\n",
       "      <th>50%</th>\n",
       "      <td>34433267.000</td>\n",
       "      <td>37095283.000</td>\n",
       "      <td>13000.000</td>\n",
       "      <td>13000.000</td>\n",
       "      <td>13000.000</td>\n",
       "      <td>12.990</td>\n",
       "      <td>382.550</td>\n",
       "      <td>nan</td>\n",
       "      <td>17.650</td>\n",
       "      <td>nan</td>\n",
       "      <td>...</td>\n",
       "      <td>0.000</td>\n",
       "      <td>0.000</td>\n",
       "      <td>0.000</td>\n",
       "      <td>462.780</td>\n",
       "      <td>nan</td>\n",
       "      <td>1.000</td>\n",
       "      <td>nan</td>\n",
       "      <td>nan</td>\n",
       "      <td>nan</td>\n",
       "      <td>nan</td>\n",
       "    </tr>\n",
       "    <tr>\n",
       "      <th>75%</th>\n",
       "      <td>54908135.000</td>\n",
       "      <td>58471347.000</td>\n",
       "      <td>20000.000</td>\n",
       "      <td>20000.000</td>\n",
       "      <td>20000.000</td>\n",
       "      <td>16.200</td>\n",
       "      <td>572.600</td>\n",
       "      <td>nan</td>\n",
       "      <td>23.950</td>\n",
       "      <td>nan</td>\n",
       "      <td>...</td>\n",
       "      <td>0.000</td>\n",
       "      <td>0.000</td>\n",
       "      <td>0.000</td>\n",
       "      <td>831.245</td>\n",
       "      <td>nan</td>\n",
       "      <td>1.000</td>\n",
       "      <td>nan</td>\n",
       "      <td>nan</td>\n",
       "      <td>nan</td>\n",
       "      <td>nan</td>\n",
       "    </tr>\n",
       "    <tr>\n",
       "      <th>max</th>\n",
       "      <td>68617057.000</td>\n",
       "      <td>73544841.000</td>\n",
       "      <td>35000.000</td>\n",
       "      <td>35000.000</td>\n",
       "      <td>35000.000</td>\n",
       "      <td>28.990</td>\n",
       "      <td>1445.460</td>\n",
       "      <td>9500000.000</td>\n",
       "      <td>9999.000</td>\n",
       "      <td>39.000</td>\n",
       "      <td>...</td>\n",
       "      <td>358.680</td>\n",
       "      <td>33520.270</td>\n",
       "      <td>7002.190</td>\n",
       "      <td>36475.590</td>\n",
       "      <td>20.000</td>\n",
       "      <td>1.000</td>\n",
       "      <td>14.000</td>\n",
       "      <td>9152545.000</td>\n",
       "      <td>8000078.000</td>\n",
       "      <td>9999999.000</td>\n",
       "    </tr>\n",
       "  </tbody>\n",
       "</table>\n",
       "<p>8 rows × 32 columns</p>\n",
       "</div>"
      ],
      "text/plain": [
       "                id    member_id  loan_amnt  funded_amnt  funded_amnt_inv  \\\n",
       "count   887379.000   887379.000 887379.000   887379.000       887379.000   \n",
       "mean  32465133.055 35001824.816  14755.265    14741.878        14702.464   \n",
       "std   22827341.721 24113354.676   8435.456     8429.898         8442.107   \n",
       "min      54734.000    70473.000    500.000      500.000            0.000   \n",
       "25%    9206643.000 10877133.500   8000.000     8000.000         8000.000   \n",
       "50%   34433267.000 37095283.000  13000.000    13000.000        13000.000   \n",
       "75%   54908135.000 58471347.000  20000.000    20000.000        20000.000   \n",
       "max   68617057.000 73544841.000  35000.000    35000.000        35000.000   \n",
       "\n",
       "        int_rate  installment  annual_inc        dti  delinq_2yrs  \\\n",
       "count 887379.000   887379.000  887375.000 887379.000   887350.000   \n",
       "mean      13.247      436.717   75027.588     18.157        0.314   \n",
       "std        4.382      244.187   64698.300     17.191        0.862   \n",
       "min        5.320       15.670       0.000      0.000        0.000   \n",
       "25%        9.990      260.705         nan     11.910          nan   \n",
       "50%       12.990      382.550         nan     17.650          nan   \n",
       "75%       16.200      572.600         nan     23.950          nan   \n",
       "max       28.990     1445.460 9500000.000   9999.000       39.000   \n",
       "\n",
       "             ...         total_rec_late_fee  recoveries  \\\n",
       "count        ...                 887379.000  887379.000   \n",
       "mean         ...                      0.397      45.919   \n",
       "std          ...                      4.088     409.694   \n",
       "min          ...                      0.000       0.000   \n",
       "25%          ...                      0.000       0.000   \n",
       "50%          ...                      0.000       0.000   \n",
       "75%          ...                      0.000       0.000   \n",
       "max          ...                    358.680   33520.270   \n",
       "\n",
       "       collection_recovery_fee  last_pymnt_amnt  collections_12_mths_ex_med  \\\n",
       "count               887379.000       887379.000                  887234.000   \n",
       "mean                     4.881         2164.146                       0.014   \n",
       "std                     63.125         4794.783                       0.134   \n",
       "min                      0.000            0.000                       0.000   \n",
       "25%                      0.000          280.170                         nan   \n",
       "50%                      0.000          462.780                         nan   \n",
       "75%                      0.000          831.245                         nan   \n",
       "max                   7002.190        36475.590                      20.000   \n",
       "\n",
       "       policy_code  acc_now_delinq  tot_coll_amt  tot_cur_bal  \\\n",
       "count   887379.000      887350.000    817103.000   817103.000   \n",
       "mean         1.000           0.005       225.703   139458.189   \n",
       "std          0.000           0.078     10311.367   153749.967   \n",
       "min          1.000           0.000         0.000        0.000   \n",
       "25%          1.000             nan           nan          nan   \n",
       "50%          1.000             nan           nan          nan   \n",
       "75%          1.000             nan           nan          nan   \n",
       "max          1.000          14.000   9152545.000  8000078.000   \n",
       "\n",
       "       total_rev_hi_lim  \n",
       "count        817103.000  \n",
       "mean          32068.620  \n",
       "std           37498.258  \n",
       "min               0.000  \n",
       "25%                 nan  \n",
       "50%                 nan  \n",
       "75%                 nan  \n",
       "max         9999999.000  \n",
       "\n",
       "[8 rows x 32 columns]"
      ]
     },
     "execution_count": 278,
     "metadata": {},
     "output_type": "execute_result"
    }
   ],
   "source": [
    "numeric_features = df.select_dtypes(include=[np.number])\n",
    "numeric_features.describe()"
   ]
  },
  {
   "cell_type": "code",
   "execution_count": 279,
   "metadata": {
    "collapsed": false
   },
   "outputs": [
    {
     "name": "stdout",
     "output_type": "stream",
     "text": [
      "loan_amnt         1.000\n",
      "funded_amnt       0.999\n",
      "funded_amnt_inv   0.997\n",
      "installment       0.945\n",
      "out_prncp_inv     0.647\n",
      "out_prncp         0.647\n",
      "total_rec_int     0.534\n",
      "total_pymnt_inv   0.476\n",
      "total_pymnt       0.475\n",
      "total_rec_prncp   0.390\n",
      "Name: loan_amnt, dtype: float64 \n",
      "\n",
      "collection_recovery_fee       0.052\n",
      "total_rec_late_fee            0.031\n",
      "dti                           0.021\n",
      "acc_now_delinq                0.004\n",
      "delinq_2yrs                  -0.000\n",
      "tot_coll_amt                 -0.004\n",
      "collections_12_mths_ex_med   -0.017\n",
      "inq_last_6mths               -0.034\n",
      "pub_rec                      -0.081\n",
      "policy_code                     nan\n",
      "Name: loan_amnt, dtype: float64\n"
     ]
    }
   ],
   "source": [
    "corr = numeric_features.corr()\n",
    "\n",
    "print (corr['loan_amnt'].sort_values(ascending=False)[:10], '\\n')\n",
    "print (corr['loan_amnt'].sort_values(ascending=False)[-10:])"
   ]
  },
  {
   "cell_type": "code",
   "execution_count": null,
   "metadata": {
    "collapsed": false
   },
   "outputs": [],
   "source": [
    "categoricals = df.select_dtypes(exclude=[np.number])\n",
    "categoricals.describe()"
   ]
  },
  {
   "cell_type": "code",
   "execution_count": null,
   "metadata": {
    "collapsed": false
   },
   "outputs": [],
   "source": [
    "def show_dictionary(path='/Users/sergeboo/Projects/machine-learning/kaggle/lending-club/LCDataDictionary.xlsx'):\n",
    "    data_dictionary = pd.read_excel(path)\n",
    "\n",
    "    print(data_dictionary.shape[0])\n",
    "    print(data_dictionary.columns.tolist())\n",
    "\n",
    "    data_dictionary.rename(columns={'LoanStatNew': 'name',\n",
    "                                    'Description': 'description'})\n",
    "    return data_dictionary\n",
    "\n",
    "dict = show_dictionary()\n",
    "dict.head()"
   ]
  },
  {
   "cell_type": "markdown",
   "metadata": {},
   "source": [
    "*Exploratory Visualization*\n",
    "\n",
    "In this section, you will need to provide some form of visualization that summarizes or extracts a relevant characteristic or feature about the data. The visualization should adequately support the data being used. Discuss why this visualization was chosen and how it is relevant. Questions to ask yourself when writing this section:\n",
    "- _Have you visualized a relevant characteristic or feature about the dataset or input data?_\n",
    "- _Is the visualization thoroughly analyzed and discussed?_\n",
    "- _If a plot is provided, are the axes, title, and datum clearly defined?_\n",
    "\n"
   ]
  },
  {
   "cell_type": "code",
   "execution_count": null,
   "metadata": {
    "collapsed": false
   },
   "outputs": [],
   "source": [
    "df.term.value_counts()"
   ]
  },
  {
   "cell_type": "code",
   "execution_count": null,
   "metadata": {
    "collapsed": false
   },
   "outputs": [],
   "source": [
    "post_loan_features= ['total_rev_hi_lim','acc_now_delinq','tot_cur_bal']\n",
    "\n",
    "df[post_loan_features].describe()\n",
    "df.drop(post_loan_features, axis=1)"
   ]
  },
  {
   "cell_type": "markdown",
   "metadata": {},
   "source": [
    "Running Data Visualisations"
   ]
  },
  {
   "cell_type": "code",
   "execution_count": null,
   "metadata": {
    "collapsed": false
   },
   "outputs": [],
   "source": [
    "sns.pairplot(df[['loan_amnt', 'annual_inc', 'emp_length', \\\n",
    "                  'dti', 'grade', 'loan_status']].dropna(), hue='grade')\n",
    "#plt.set_xticklabels(rotation=30)"
   ]
  },
  {
   "cell_type": "code",
   "execution_count": null,
   "metadata": {
    "collapsed": false
   },
   "outputs": [],
   "source": [
    "g = sns.factorplot(x=\"grade\", y=\"loan_amnt\", hue=\"isDefault\", order=[\"A\",\"B\",\"C\",\"D\",\"E\",\"F\",\"G\"], data=df, size=6, \\\n",
    "                    kind=\"violin\", split=True, cut=1, aspect=1)\n",
    "\n",
    "g2 = sns.factorplot(x=\"purpose\", y=\"loan_amnt\", hue=\"isDefault\", data=df, size=6, \\\n",
    "                    kind=\"violin\", split=True, cut=1, aspect=1)\n",
    "g2.set_xticklabels(rotation=90)"
   ]
  },
  {
   "cell_type": "code",
   "execution_count": null,
   "metadata": {
    "collapsed": false
   },
   "outputs": [],
   "source": [
    "plt.xticks(rotation=90)\n",
    "\n",
    "#df_status = df.loc[df['loan_status'].isin(['Current','Charged Off','Default','Fully Paid','In Grace Period','Late (16-30 days)','Late (31-120 days)'])]\n",
    "\n",
    "sns.countplot(df['loan_status'], palette='Set2')\n",
    "plt.xlabel('Loan Status')"
   ]
  },
  {
   "cell_type": "code",
   "execution_count": null,
   "metadata": {
    "collapsed": false
   },
   "outputs": [],
   "source": [
    "sns.distplot(df['loan_amnt'])"
   ]
  },
  {
   "cell_type": "code",
   "execution_count": 294,
   "metadata": {
    "collapsed": false
   },
   "outputs": [
    {
     "data": {
      "text/plain": [
       "(array([ 0,  1,  2,  3,  4,  5,  6,  7,  8,  9, 10, 11]),\n",
       " <a list of 12 Text xticklabel objects>)"
      ]
     },
     "execution_count": 294,
     "metadata": {},
     "output_type": "execute_result"
    },
    {
     "data": {
      "image/png": "[encoded data removed]",
      "text/plain": [
       "<matplotlib.figure.Figure at 0x1bf341eb8>"
      ]
     },
     "metadata": {},
     "output_type": "display_data"
    }
   ],
   "source": [
    "df_sub = df[df.purpose.isin(['debt_consolidation', 'credit_card']) == False]\n",
    "sns.countplot(x=\"purpose\", hue=\"loan_status\", data=df_sub)\n",
    "plt.xticks(rotation=90)"
   ]
  },
  {
   "cell_type": "code",
   "execution_count": null,
   "metadata": {
    "collapsed": false
   },
   "outputs": [],
   "source": [
    "df[df.purpose.isin(['debt_consolidation', 'credit_card']) == False].groupby(by=['loan_status','purpose']).count()['id']"
   ]
  },
  {
   "cell_type": "code",
   "execution_count": 293,
   "metadata": {
    "collapsed": false
   },
   "outputs": [
    {
     "data": {
      "text/plain": [
       "<matplotlib.axes._subplots.AxesSubplot at 0x17f6981d0>"
      ]
     },
     "execution_count": 293,
     "metadata": {},
     "output_type": "execute_result"
    },
    {
     "data": {
      "image/png": "[encoded data removed]",
      "text/plain": [
       "<matplotlib.figure.Figure at 0x17f698208>"
      ]
     },
     "metadata": {},
     "output_type": "display_data"
    }
   ],
   "source": [
    "plt.xticks(rotation=90)\n",
    "sns.stripplot(data=df[['loan_status','loan_amnt', 'purpose']], x='purpose', y='loan_amnt', \\\n",
    "              jitter=True, hue='loan_status', split=True)"
   ]
  },
  {
   "cell_type": "code",
   "execution_count": null,
   "metadata": {
    "collapsed": false
   },
   "outputs": [],
   "source": [
    "#p1 = sns.violinplot(data=df[['loan_status', 'int_rate', 'grade', 'loan_amnt']], hue='loan_status', x='grade', \\\n",
    "#               order=['A', 'B', 'C', 'D', 'E', 'F', 'G'], y='loan_amnt', split=True, inner='quartile')\n",
    "mapping_dict = {'loan_status':{1:'Fully Paid', 0:'Default'}}\n",
    "df = df.replace(mapping_dict)\n",
    "\n",
    "p2 = sns.violinplot(data=df[['loan_status', 'int_rate', 'grade']], hue='loan_status', x='grade', \\\n",
    "               order=['A', 'B', 'C', 'D', 'E', 'F', 'G'], y='int_rate', split=True, inner='quartile')\n",
    "\n",
    "plt.xticks(rotation=0)"
   ]
  },
  {
   "cell_type": "code",
   "execution_count": null,
   "metadata": {
    "collapsed": false
   },
   "outputs": [],
   "source": [
    "plot_df = df.query('loan_amnt > 10 & int_rate <28')[:3000]\n",
    "\n",
    "sns.set(font_scale=1.2, rc={\"lines.linewidth\": 1.5}) \n",
    "\n",
    "g = sns.lmplot(\"int_rate\", \"loan_amnt\", x_jitter= .7,  y_jitter= .1,\n",
    "           data=plot_df, hue='term',lowess=True, size=5,aspect=1.4, legend_out=False,\n",
    "           scatter_kws={ 's':20, 'alpha':.6})\n",
    "\n",
    "g.set(xlim=(2.5, 28),ylim=(580, 880),alpha = .5)\n",
    "\n",
    "#g.savefig('1.png',transparent=True)"
   ]
  },
  {
   "cell_type": "markdown",
   "metadata": {},
   "source": [
    "# Data Preprocessing"
   ]
  },
  {
   "cell_type": "markdown",
   "metadata": {},
   "source": [
    "** Cleaning abnomalies **\n",
    "\n",
    "Converting data format and type for some features:\n",
    "\n",
    "Employment Length"
   ]
  },
  {
   "cell_type": "code",
   "execution_count": 5,
   "metadata": {
    "collapsed": false
   },
   "outputs": [],
   "source": [
    "def print_data_shape(df):\n",
    "    print (\"No rows: {}\".format(df.shape[0]))\n",
    "    print (\"No cols: {}\".format(df.shape[1]))\n",
    "    print (df.head(1).values)\n",
    "    print (\"Columns: \" + df.columns)\n",
    "\n",
    "#print_data_shape(df)"
   ]
  },
  {
   "cell_type": "code",
   "execution_count": 6,
   "metadata": {
    "collapsed": false
   },
   "outputs": [],
   "source": [
    "def proc_emp_length():\n",
    "    df.replace('n/a', np.nan, inplace=True)\n",
    "    df.emp_length.fillna(value=0, inplace=True)\n",
    "    df['emp_length'].replace(to_replace='[^0-9]+', value='', inplace=True, regex=True)\n",
    "    df['emp_length'] = df['emp_length'].astype(int)\n",
    "    #df.emp_length.head()\n",
    "\n",
    "#proc_emp_length()\n",
    "#print_data_shape(df)"
   ]
  },
  {
   "cell_type": "markdown",
   "metadata": {},
   "source": [
    "interest rate"
   ]
  },
  {
   "cell_type": "markdown",
   "metadata": {},
   "source": [
    "Revolving Utility"
   ]
  },
  {
   "cell_type": "code",
   "execution_count": null,
   "metadata": {
    "collapsed": false
   },
   "outputs": [],
   "source": [
    "df.revol_bal.head()\n",
    "#df.revol_util = pd.Series(df.revol_util).str.replace('%', '').astype(float)"
   ]
  },
  {
   "cell_type": "markdown",
   "metadata": {},
   "source": [
    "Emloyment Title"
   ]
  },
  {
   "cell_type": "code",
   "execution_count": null,
   "metadata": {
    "collapsed": false
   },
   "outputs": [],
   "source": [
    "print (df.emp_title.value_counts().head())\n",
    "print (df.emp_title.value_counts().tail())\n",
    "df.emp_title.unique().shape"
   ]
  },
  {
   "cell_type": "markdown",
   "metadata": {},
   "source": [
    "Verified Income"
   ]
  },
  {
   "cell_type": "code",
   "execution_count": null,
   "metadata": {
    "collapsed": false
   },
   "outputs": [],
   "source": [
    "df.verification_status.value_counts()"
   ]
  },
  {
   "cell_type": "markdown",
   "metadata": {},
   "source": [
    "Issue Date"
   ]
  },
  {
   "cell_type": "code",
   "execution_count": 7,
   "metadata": {
    "collapsed": false
   },
   "outputs": [],
   "source": [
    "def proc_issue_d():\n",
    "    df['issue_month'], df['issue_year'] = zip(*df.issue_d.str.split('-'))\n",
    "    df.drop(['issue_d'], 1, inplace=True)\n",
    "\n",
    "#proc_issue_d()"
   ]
  },
  {
   "cell_type": "markdown",
   "metadata": {},
   "source": [
    "Zip Code"
   ]
  },
  {
   "cell_type": "code",
   "execution_count": 8,
   "metadata": {
    "collapsed": true
   },
   "outputs": [],
   "source": [
    "def proc_zip_code():\n",
    "    df['zip_code'] = df['zip_code'].str.rstrip('x')\n",
    "\n",
    "#proc_zip_code()"
   ]
  },
  {
   "cell_type": "markdown",
   "metadata": {},
   "source": [
    "Purpose"
   ]
  },
  {
   "cell_type": "code",
   "execution_count": null,
   "metadata": {
    "collapsed": false
   },
   "outputs": [],
   "source": [
    "print (df.purpose.value_counts())\n",
    "print ('')\n",
    "print (df.title.value_counts().head())"
   ]
  },
  {
   "cell_type": "markdown",
   "metadata": {},
   "source": [
    "Drop attributes populated post loan completion"
   ]
  },
  {
   "cell_type": "code",
   "execution_count": null,
   "metadata": {
    "collapsed": false
   },
   "outputs": [],
   "source": [
    "print_data_shape(df)"
   ]
  },
  {
   "cell_type": "code",
   "execution_count": 9,
   "metadata": {
    "collapsed": false
   },
   "outputs": [],
   "source": [
    "def drop_attrs(df, inc_ids=True):\n",
    "    # Drop post loan attributes\n",
    "    try:\n",
    "        df.drop(['out_prncp','out_prncp_inv','total_pymnt',\n",
    "                 'total_pymnt_inv', 'total_rec_prncp'], 1 , inplace=True)\n",
    "        # Drop surrogate identifiers\n",
    "        if inc_ids:\n",
    "            df.drop(['id','member_id'], 1, inplace=True)\n",
    "        # Dropping last few cols with too many nulls\n",
    "        df.drop(['next_pymnt_d','total_rev_hi_lim','tot_coll_amt','tot_cur_bal','emp_title','last_pymnt_d', \\\n",
    "             'title','collections_12_mths_ex_med','last_credit_pull_d', 'total_acc', 'pub_rec', \\\n",
    "             'policy_code','pymnt_plan','earliest_cr_line'], 1, inplace=True)\n",
    "        # drop text columns\n",
    "        df.drop(['url'], 1, inplace=True)\n",
    "        # drop last few records with nulls\n",
    "        #df = df.dropna()\n",
    "    except:\n",
    "        print(\"Could not drop columns\")\n",
    "\n",
    "#drop_attrs(df, inc_ids=True)"
   ]
  },
  {
   "cell_type": "markdown",
   "metadata": {},
   "source": [
    "Look at correlation and eliminate highly correlated attributes"
   ]
  },
  {
   "cell_type": "code",
   "execution_count": null,
   "metadata": {
    "collapsed": false
   },
   "outputs": [],
   "source": [
    "cor = df.corr()\n",
    "cor.loc[:,:] = np.tril(cor, k=-1) # below main lower triangle of an array\n",
    "cor = cor.stack()\n",
    "cor[(cor > 0.55) | (cor < -0.55)]"
   ]
  },
  {
   "cell_type": "code",
   "execution_count": null,
   "metadata": {
    "collapsed": false
   },
   "outputs": [],
   "source": [
    "plt.subplots(figsize=(12, 9))\n",
    "cor = df.corr()\n",
    "# Draw the heatmap using seaborn\n",
    "sns.heatmap(cor, vmax=.8, square=True)"
   ]
  },
  {
   "cell_type": "markdown",
   "metadata": {},
   "source": [
    "Create Binary Classifier"
   ]
  },
  {
   "cell_type": "code",
   "execution_count": 10,
   "metadata": {
    "collapsed": false
   },
   "outputs": [],
   "source": [
    "def proc_loan_status(df):\n",
    "    mapping_dict = {'loan_status':{'Fully Paid':0, 'Charged Off': 1, 'Default': 1, 'Current': 0}}\n",
    "    df = df.replace(mapping_dict)\n",
    "    df = df[(df['loan_status'] == 1) | (df['loan_status'] == 0)]\n",
    "    return df\n",
    "\n",
    "#df = proc_loan_status(df)\n",
    "\n",
    "#print_data_shape(df)\n",
    "#df.loan_status.value_counts()"
   ]
  },
  {
   "cell_type": "markdown",
   "metadata": {},
   "source": [
    "Handle Missing values"
   ]
  },
  {
   "cell_type": "markdown",
   "metadata": {},
   "source": [
    "Policy Code, Public Record"
   ]
  },
  {
   "cell_type": "code",
   "execution_count": null,
   "metadata": {
    "collapsed": false
   },
   "outputs": [],
   "source": [
    "df.policy_code.value_counts()\n",
    "df.pub_rec.value_counts()\n",
    "df.pymnt_plan.value_counts()"
   ]
  },
  {
   "cell_type": "code",
   "execution_count": 11,
   "metadata": {
    "collapsed": false
   },
   "outputs": [],
   "source": [
    "def show_nulls(df):\n",
    "    nulls = pd.DataFrame(df.isnull().sum().sort_values(ascending=False)[:25])\n",
    "    nulls.columns = ['Null Count']   \n",
    "    nulls.index.name = 'Feature'\n",
    "    return nulls\n",
    "\n",
    "#show_nulls(df)"
   ]
  },
  {
   "cell_type": "code",
   "execution_count": 389,
   "metadata": {
    "collapsed": false
   },
   "outputs": [
    {
     "ename": "AttributeError",
     "evalue": "'NoneType' object has no attribute 'dropna'",
     "output_type": "error",
     "traceback": [
      "\u001b[0;31m---------------------------------------------------------------------------\u001b[0m",
      "\u001b[0;31mAttributeError\u001b[0m                            Traceback (most recent call last)",
      "\u001b[0;32m<ipython-input-389-0844a85b1ca6>\u001b[0m in \u001b[0;36m<module>\u001b[0;34m()\u001b[0m\n\u001b[0;32m----> 1\u001b[0;31m \u001b[0mdf\u001b[0m\u001b[0;34m.\u001b[0m\u001b[0mdropna\u001b[0m\u001b[0;34m(\u001b[0m\u001b[0mhow\u001b[0m\u001b[0;34m=\u001b[0m\u001b[0;34m'any'\u001b[0m\u001b[0;34m,\u001b[0m \u001b[0maxis\u001b[0m\u001b[0;34m=\u001b[0m\u001b[0;36m1\u001b[0m\u001b[0;34m,\u001b[0m \u001b[0minplace\u001b[0m\u001b[0;34m=\u001b[0m\u001b[0;32mTrue\u001b[0m\u001b[0;34m)\u001b[0m\u001b[0;34m\u001b[0m\u001b[0m\n\u001b[0m\u001b[1;32m      2\u001b[0m \u001b[0;31m#show_nulls(df)\u001b[0m\u001b[0;34m\u001b[0m\u001b[0;34m\u001b[0m\u001b[0m\n\u001b[1;32m      3\u001b[0m \u001b[0;34m\u001b[0m\u001b[0m\n\u001b[1;32m      4\u001b[0m \u001b[0;31m#print_data_shape(df)\u001b[0m\u001b[0;34m\u001b[0m\u001b[0;34m\u001b[0m\u001b[0m\n",
      "\u001b[0;31mAttributeError\u001b[0m: 'NoneType' object has no attribute 'dropna'"
     ]
    }
   ],
   "source": [
    "df.dropna(how='any', axis=1, inplace=True)\n",
    "#show_nulls(df)\n",
    "\n",
    "#print_data_shape(df)"
   ]
  },
  {
   "cell_type": "code",
   "execution_count": 390,
   "metadata": {
    "collapsed": true
   },
   "outputs": [],
   "source": [
    "df"
   ]
  },
  {
   "cell_type": "markdown",
   "metadata": {},
   "source": [
    "Show dataset"
   ]
  },
  {
   "cell_type": "code",
   "execution_count": null,
   "metadata": {
    "collapsed": false
   },
   "outputs": [],
   "source": [
    "df.ix[:5,:10]"
   ]
  },
  {
   "cell_type": "code",
   "execution_count": null,
   "metadata": {
    "collapsed": false
   },
   "outputs": [],
   "source": [
    "df.ix[:5,11:20]"
   ]
  },
  {
   "cell_type": "code",
   "execution_count": null,
   "metadata": {
    "collapsed": false
   },
   "outputs": [],
   "source": [
    "df.ix[:5,31:40]"
   ]
  },
  {
   "cell_type": "code",
   "execution_count": null,
   "metadata": {
    "collapsed": false
   },
   "outputs": [],
   "source": [
    "df.ix[:5,51:60]"
   ]
  },
  {
   "cell_type": "markdown",
   "metadata": {},
   "source": [
    "Prepare Data: One hot encode, Scaling, normalise"
   ]
  },
  {
   "cell_type": "code",
   "execution_count": null,
   "metadata": {
    "collapsed": false
   },
   "outputs": [],
   "source": [
    "df.columns"
   ]
  },
  {
   "cell_type": "code",
   "execution_count": 290,
   "metadata": {
    "collapsed": false
   },
   "outputs": [
    {
     "data": {
      "text/plain": [
       "<matplotlib.axes._subplots.AxesSubplot at 0x12168cdd8>"
      ]
     },
     "execution_count": 290,
     "metadata": {},
     "output_type": "execute_result"
    },
    {
     "data": {
      "image/png": "[encoded data removed]",
      "text/plain": [
       "<matplotlib.figure.Figure at 0x1319faac8>"
      ]
     },
     "metadata": {},
     "output_type": "display_data"
    }
   ],
   "source": [
    "#df = filter_data(df, 'df.issue_year == \\'2014\\'')\n",
    "#len(df[df['issue_year'] == '2012'])\n",
    "sns.countplot(data=df, x='issue_year')"
   ]
  },
  {
   "cell_type": "code",
   "execution_count": 28,
   "metadata": {
    "collapsed": false
   },
   "outputs": [
    {
     "name": "stderr",
     "output_type": "stream",
     "text": [
      "/Users/sergeboo/Software/anaconda3/lib/python3.5/site-packages/IPython/core/interactiveshell.py:2821: DtypeWarning: Columns (19,55) have mixed types. Specify dtype option on import or set low_memory=False.\n",
      "  if self.run_code(code, result):\n"
     ]
    },
    {
     "name": "stdout",
     "output_type": "stream",
     "text": [
      "processing emp_length\n",
      "processing issue_d\n",
      "processing zip_code\n",
      "processing loan_status\n"
     ]
    },
    {
     "data": {
      "text/html": [
       "<div>\n",
       "<table border=\"1\" class=\"dataframe\">\n",
       "  <thead>\n",
       "    <tr style=\"text-align: right;\">\n",
       "      <th></th>\n",
       "      <th>Null Count</th>\n",
       "    </tr>\n",
       "    <tr>\n",
       "      <th>Feature</th>\n",
       "      <th></th>\n",
       "    </tr>\n",
       "  </thead>\n",
       "  <tbody>\n",
       "    <tr>\n",
       "      <th>issue_year</th>\n",
       "      <td>0</td>\n",
       "    </tr>\n",
       "    <tr>\n",
       "      <th>zip_code</th>\n",
       "      <td>0</td>\n",
       "    </tr>\n",
       "    <tr>\n",
       "      <th>funded_amnt</th>\n",
       "      <td>0</td>\n",
       "    </tr>\n",
       "    <tr>\n",
       "      <th>funded_amnt_inv</th>\n",
       "      <td>0</td>\n",
       "    </tr>\n",
       "    <tr>\n",
       "      <th>term</th>\n",
       "      <td>0</td>\n",
       "    </tr>\n",
       "    <tr>\n",
       "      <th>int_rate</th>\n",
       "      <td>0</td>\n",
       "    </tr>\n",
       "    <tr>\n",
       "      <th>installment</th>\n",
       "      <td>0</td>\n",
       "    </tr>\n",
       "    <tr>\n",
       "      <th>grade</th>\n",
       "      <td>0</td>\n",
       "    </tr>\n",
       "    <tr>\n",
       "      <th>sub_grade</th>\n",
       "      <td>0</td>\n",
       "    </tr>\n",
       "    <tr>\n",
       "      <th>emp_length</th>\n",
       "      <td>0</td>\n",
       "    </tr>\n",
       "    <tr>\n",
       "      <th>home_ownership</th>\n",
       "      <td>0</td>\n",
       "    </tr>\n",
       "    <tr>\n",
       "      <th>annual_inc</th>\n",
       "      <td>0</td>\n",
       "    </tr>\n",
       "    <tr>\n",
       "      <th>verification_status</th>\n",
       "      <td>0</td>\n",
       "    </tr>\n",
       "    <tr>\n",
       "      <th>loan_status</th>\n",
       "      <td>0</td>\n",
       "    </tr>\n",
       "    <tr>\n",
       "      <th>purpose</th>\n",
       "      <td>0</td>\n",
       "    </tr>\n",
       "    <tr>\n",
       "      <th>addr_state</th>\n",
       "      <td>0</td>\n",
       "    </tr>\n",
       "    <tr>\n",
       "      <th>issue_month</th>\n",
       "      <td>0</td>\n",
       "    </tr>\n",
       "    <tr>\n",
       "      <th>dti</th>\n",
       "      <td>0</td>\n",
       "    </tr>\n",
       "    <tr>\n",
       "      <th>delinq_2yrs</th>\n",
       "      <td>0</td>\n",
       "    </tr>\n",
       "    <tr>\n",
       "      <th>inq_last_6mths</th>\n",
       "      <td>0</td>\n",
       "    </tr>\n",
       "    <tr>\n",
       "      <th>open_acc</th>\n",
       "      <td>0</td>\n",
       "    </tr>\n",
       "    <tr>\n",
       "      <th>revol_bal</th>\n",
       "      <td>0</td>\n",
       "    </tr>\n",
       "    <tr>\n",
       "      <th>revol_util</th>\n",
       "      <td>0</td>\n",
       "    </tr>\n",
       "    <tr>\n",
       "      <th>total_rec_int</th>\n",
       "      <td>0</td>\n",
       "    </tr>\n",
       "    <tr>\n",
       "      <th>total_rec_late_fee</th>\n",
       "      <td>0</td>\n",
       "    </tr>\n",
       "  </tbody>\n",
       "</table>\n",
       "</div>"
      ],
      "text/plain": [
       "                     Null Count\n",
       "Feature                        \n",
       "issue_year                    0\n",
       "zip_code                      0\n",
       "funded_amnt                   0\n",
       "funded_amnt_inv               0\n",
       "term                          0\n",
       "int_rate                      0\n",
       "installment                   0\n",
       "grade                         0\n",
       "sub_grade                     0\n",
       "emp_length                    0\n",
       "home_ownership                0\n",
       "annual_inc                    0\n",
       "verification_status           0\n",
       "loan_status                   0\n",
       "purpose                       0\n",
       "addr_state                    0\n",
       "issue_month                   0\n",
       "dti                           0\n",
       "delinq_2yrs                   0\n",
       "inq_last_6mths                0\n",
       "open_acc                      0\n",
       "revol_bal                     0\n",
       "revol_util                    0\n",
       "total_rec_int                 0\n",
       "total_rec_late_fee            0"
      ]
     },
     "execution_count": 28,
     "metadata": {},
     "output_type": "execute_result"
    }
   ],
   "source": [
    "def run_preproc(df):\n",
    "    print (\"processing emp_length\")\n",
    "    proc_emp_length()\n",
    "    print (\"processing issue_d\")\n",
    "    proc_issue_d()\n",
    "    print (\"processing zip_code\")\n",
    "    proc_zip_code()\n",
    "    # print (\"dropping cols\")\n",
    "    #df = drop_attrs(df)\n",
    "    \n",
    "    df.drop(['out_prncp','out_prncp_inv','total_pymnt',\n",
    "             'total_pymnt_inv', 'total_rec_prncp'], 1 , inplace=True)\n",
    "    # Drop surrogate identifiers\n",
    "    df.drop(['id','member_id'], 1, inplace=True)\n",
    "    # Dropping last few cols with too many nulls\n",
    "    df.drop(['next_pymnt_d','total_rev_hi_lim','tot_coll_amt','tot_cur_bal','emp_title','last_pymnt_d', \\\n",
    "             'title','collections_12_mths_ex_med','last_credit_pull_d', 'total_acc', 'pub_rec', 'initial_list_status', \\\n",
    "             'policy_code','pymnt_plan','earliest_cr_line'], 1, inplace=True)\n",
    "    # drop text columns\n",
    "    df.drop(['url'], 1, inplace=True)\n",
    "    # drop last few records with nulls\n",
    "    df = df.dropna()\n",
    "\n",
    "    print (\"processing loan_status\")\n",
    "    df = proc_loan_status(df)\n",
    "    return df\n",
    "\n",
    "df = load_loan_data(threshold=2)\n",
    "\n",
    "df = run_preproc(df)\n",
    "show_nulls(df)"
   ]
  },
  {
   "cell_type": "code",
   "execution_count": 401,
   "metadata": {
    "collapsed": false
   },
   "outputs": [
    {
     "data": {
      "text/html": [
       "<div>\n",
       "<table border=\"1\" class=\"dataframe\">\n",
       "  <thead>\n",
       "    <tr style=\"text-align: right;\">\n",
       "      <th></th>\n",
       "      <th>loan_amnt</th>\n",
       "      <th>funded_amnt</th>\n",
       "      <th>funded_amnt_inv</th>\n",
       "      <th>term</th>\n",
       "      <th>int_rate</th>\n",
       "      <th>installment</th>\n",
       "      <th>grade</th>\n",
       "      <th>sub_grade</th>\n",
       "      <th>emp_length</th>\n",
       "      <th>home_ownership</th>\n",
       "      <th>...</th>\n",
       "      <th>revol_util</th>\n",
       "      <th>total_rec_int</th>\n",
       "      <th>total_rec_late_fee</th>\n",
       "      <th>recoveries</th>\n",
       "      <th>collection_recovery_fee</th>\n",
       "      <th>last_pymnt_amnt</th>\n",
       "      <th>application_type</th>\n",
       "      <th>acc_now_delinq</th>\n",
       "      <th>issue_month</th>\n",
       "      <th>issue_year</th>\n",
       "    </tr>\n",
       "  </thead>\n",
       "  <tbody>\n",
       "    <tr>\n",
       "      <th>0</th>\n",
       "      <td>5000.000</td>\n",
       "      <td>5000.000</td>\n",
       "      <td>4975.000</td>\n",
       "      <td>36 months</td>\n",
       "      <td>10.650</td>\n",
       "      <td>162.870</td>\n",
       "      <td>B</td>\n",
       "      <td>B2</td>\n",
       "      <td>10</td>\n",
       "      <td>RENT</td>\n",
       "      <td>...</td>\n",
       "      <td>83.700</td>\n",
       "      <td>861.070</td>\n",
       "      <td>0.000</td>\n",
       "      <td>0.000</td>\n",
       "      <td>0.000</td>\n",
       "      <td>171.620</td>\n",
       "      <td>INDIVIDUAL</td>\n",
       "      <td>0.000</td>\n",
       "      <td>Dec</td>\n",
       "      <td>2011</td>\n",
       "    </tr>\n",
       "    <tr>\n",
       "      <th>1</th>\n",
       "      <td>2500.000</td>\n",
       "      <td>2500.000</td>\n",
       "      <td>2500.000</td>\n",
       "      <td>60 months</td>\n",
       "      <td>15.270</td>\n",
       "      <td>59.830</td>\n",
       "      <td>C</td>\n",
       "      <td>C4</td>\n",
       "      <td>1</td>\n",
       "      <td>RENT</td>\n",
       "      <td>...</td>\n",
       "      <td>9.400</td>\n",
       "      <td>435.170</td>\n",
       "      <td>0.000</td>\n",
       "      <td>117.080</td>\n",
       "      <td>1.110</td>\n",
       "      <td>119.660</td>\n",
       "      <td>INDIVIDUAL</td>\n",
       "      <td>0.000</td>\n",
       "      <td>Dec</td>\n",
       "      <td>2011</td>\n",
       "    </tr>\n",
       "    <tr>\n",
       "      <th>2</th>\n",
       "      <td>2400.000</td>\n",
       "      <td>2400.000</td>\n",
       "      <td>2400.000</td>\n",
       "      <td>36 months</td>\n",
       "      <td>15.960</td>\n",
       "      <td>84.330</td>\n",
       "      <td>C</td>\n",
       "      <td>C5</td>\n",
       "      <td>10</td>\n",
       "      <td>RENT</td>\n",
       "      <td>...</td>\n",
       "      <td>98.500</td>\n",
       "      <td>603.650</td>\n",
       "      <td>0.000</td>\n",
       "      <td>0.000</td>\n",
       "      <td>0.000</td>\n",
       "      <td>649.910</td>\n",
       "      <td>INDIVIDUAL</td>\n",
       "      <td>0.000</td>\n",
       "      <td>Dec</td>\n",
       "      <td>2011</td>\n",
       "    </tr>\n",
       "    <tr>\n",
       "      <th>3</th>\n",
       "      <td>10000.000</td>\n",
       "      <td>10000.000</td>\n",
       "      <td>10000.000</td>\n",
       "      <td>36 months</td>\n",
       "      <td>13.490</td>\n",
       "      <td>339.310</td>\n",
       "      <td>C</td>\n",
       "      <td>C1</td>\n",
       "      <td>10</td>\n",
       "      <td>RENT</td>\n",
       "      <td>...</td>\n",
       "      <td>21.000</td>\n",
       "      <td>2209.330</td>\n",
       "      <td>16.970</td>\n",
       "      <td>0.000</td>\n",
       "      <td>0.000</td>\n",
       "      <td>357.480</td>\n",
       "      <td>INDIVIDUAL</td>\n",
       "      <td>0.000</td>\n",
       "      <td>Dec</td>\n",
       "      <td>2011</td>\n",
       "    </tr>\n",
       "    <tr>\n",
       "      <th>4</th>\n",
       "      <td>3000.000</td>\n",
       "      <td>3000.000</td>\n",
       "      <td>3000.000</td>\n",
       "      <td>60 months</td>\n",
       "      <td>12.690</td>\n",
       "      <td>67.790</td>\n",
       "      <td>B</td>\n",
       "      <td>B5</td>\n",
       "      <td>1</td>\n",
       "      <td>RENT</td>\n",
       "      <td>...</td>\n",
       "      <td>53.900</td>\n",
       "      <td>1009.070</td>\n",
       "      <td>0.000</td>\n",
       "      <td>0.000</td>\n",
       "      <td>0.000</td>\n",
       "      <td>67.790</td>\n",
       "      <td>INDIVIDUAL</td>\n",
       "      <td>0.000</td>\n",
       "      <td>Dec</td>\n",
       "      <td>2011</td>\n",
       "    </tr>\n",
       "  </tbody>\n",
       "</table>\n",
       "<p>5 rows × 31 columns</p>\n",
       "</div>"
      ],
      "text/plain": [
       "   loan_amnt  funded_amnt  funded_amnt_inv        term  int_rate  installment  \\\n",
       "0   5000.000     5000.000         4975.000   36 months    10.650      162.870   \n",
       "1   2500.000     2500.000         2500.000   60 months    15.270       59.830   \n",
       "2   2400.000     2400.000         2400.000   36 months    15.960       84.330   \n",
       "3  10000.000    10000.000        10000.000   36 months    13.490      339.310   \n",
       "4   3000.000     3000.000         3000.000   60 months    12.690       67.790   \n",
       "\n",
       "  grade sub_grade  emp_length home_ownership     ...      revol_util  \\\n",
       "0     B        B2          10           RENT     ...          83.700   \n",
       "1     C        C4           1           RENT     ...           9.400   \n",
       "2     C        C5          10           RENT     ...          98.500   \n",
       "3     C        C1          10           RENT     ...          21.000   \n",
       "4     B        B5           1           RENT     ...          53.900   \n",
       "\n",
       "  total_rec_int total_rec_late_fee recoveries collection_recovery_fee  \\\n",
       "0       861.070              0.000      0.000                   0.000   \n",
       "1       435.170              0.000    117.080                   1.110   \n",
       "2       603.650              0.000      0.000                   0.000   \n",
       "3      2209.330             16.970      0.000                   0.000   \n",
       "4      1009.070              0.000      0.000                   0.000   \n",
       "\n",
       "  last_pymnt_amnt  application_type  acc_now_delinq  issue_month  issue_year  \n",
       "0         171.620        INDIVIDUAL           0.000          Dec        2011  \n",
       "1         119.660        INDIVIDUAL           0.000          Dec        2011  \n",
       "2         649.910        INDIVIDUAL           0.000          Dec        2011  \n",
       "3         357.480        INDIVIDUAL           0.000          Dec        2011  \n",
       "4          67.790        INDIVIDUAL           0.000          Dec        2011  \n",
       "\n",
       "[5 rows x 31 columns]"
      ]
     },
     "execution_count": 401,
     "metadata": {},
     "output_type": "execute_result"
    }
   ],
   "source": [
    "df.head()"
   ]
  },
  {
   "cell_type": "code",
   "execution_count": 13,
   "metadata": {
    "collapsed": false
   },
   "outputs": [
    {
     "data": {
      "text/plain": [
       "<matplotlib.axes._subplots.AxesSubplot at 0x12bec19e8>"
      ]
     },
     "execution_count": 13,
     "metadata": {},
     "output_type": "execute_result"
    },
    {
     "data": {
      "image/png": "[encoded data removed]",
      "text/plain": [
       "<matplotlib.figure.Figure at 0x12beae048>"
      ]
     },
     "metadata": {},
     "output_type": "display_data"
    }
   ],
   "source": [
    "# data viz\n",
    "pd.set_option('display.float_format', lambda x: '%.3f' % x)\n",
    "grp = df.groupby(by=['issue_year','loan_status']).count()['loan_amnt'] #.plot(kind='bar', stacked=True)\n",
    "\n",
    "# re-map loan status to categorical feature\n",
    "mapping_dict = {'loan_status':{0:'Fully Paid', 1: 'Default'}}\n",
    "df2 = df.replace(mapping_dict)\n",
    "\n",
    "df2 = df[df['purpose']=='home_improvement']\n",
    "\n",
    "# Visualise Loan Default Percentage / ratio per year\n",
    "grp_df = df2.groupby(['issue_year','loan_status']).count().unstack()\n",
    "#tempdf['percent']=tempdf[0]/tempdf['total']*100\n",
    "grp_df['loan_amnt'].plot(kind='bar', stacked=True, colormap='Set3')"
   ]
  },
  {
   "cell_type": "code",
   "execution_count": 152,
   "metadata": {
    "collapsed": false
   },
   "outputs": [
    {
     "data": {
      "text/plain": [
       "debt_consolidation    505392\n",
       "credit_card           200144\n",
       "home_improvement       49956\n",
       "other                  40949\n",
       "major_purchase         16587\n",
       "small_business          9785\n",
       "car                     8593\n",
       "medical                 8193\n",
       "moving                  5160\n",
       "vacation                4542\n",
       "house                   3513\n",
       "wedding                 2280\n",
       "renewable_energy         549\n",
       "educational              326\n",
       "Name: purpose, dtype: int64"
      ]
     },
     "execution_count": 152,
     "metadata": {},
     "output_type": "execute_result"
    }
   ],
   "source": [
    "df.purpose.value_counts()"
   ]
  },
  {
   "cell_type": "code",
   "execution_count": 31,
   "metadata": {
    "collapsed": false
   },
   "outputs": [],
   "source": [
    "# Taking a sample dataset\n",
    "filtered_loans = df[df['issue_year'].isin(['2014', '2015'])]\n",
    "filtered_loans = filtered_loans[filtered_loans['purpose']=='small_business']"
   ]
  },
  {
   "cell_type": "code",
   "execution_count": 549,
   "metadata": {
    "collapsed": false
   },
   "outputs": [],
   "source": [
    "# One off test\n",
    "#filtered_loans.drop(['zip_code','url'], 1, inplace=True)\n",
    "#filtered_loans.drop(['id','member_id'], 1, inplace=True)"
   ]
  },
  {
   "cell_type": "markdown",
   "metadata": {},
   "source": [
    "One hot encoding of categorical features"
   ]
  },
  {
   "cell_type": "code",
   "execution_count": 32,
   "metadata": {
    "collapsed": false
   },
   "outputs": [
    {
     "data": {
      "text/html": [
       "<div>\n",
       "<table border=\"1\" class=\"dataframe\">\n",
       "  <thead>\n",
       "    <tr style=\"text-align: right;\">\n",
       "      <th></th>\n",
       "      <th>loan_amnt</th>\n",
       "      <th>funded_amnt</th>\n",
       "      <th>funded_amnt_inv</th>\n",
       "      <th>int_rate</th>\n",
       "      <th>installment</th>\n",
       "      <th>emp_length</th>\n",
       "      <th>annual_inc</th>\n",
       "      <th>loan_status</th>\n",
       "      <th>zip_code</th>\n",
       "      <th>dti</th>\n",
       "      <th>...</th>\n",
       "      <th>addr_state_SD</th>\n",
       "      <th>addr_state_TN</th>\n",
       "      <th>addr_state_TX</th>\n",
       "      <th>addr_state_UT</th>\n",
       "      <th>addr_state_VA</th>\n",
       "      <th>addr_state_VT</th>\n",
       "      <th>addr_state_WA</th>\n",
       "      <th>addr_state_WI</th>\n",
       "      <th>addr_state_WV</th>\n",
       "      <th>addr_state_WY</th>\n",
       "    </tr>\n",
       "  </thead>\n",
       "  <tbody>\n",
       "    <tr>\n",
       "      <th>230952</th>\n",
       "      <td>9000.000</td>\n",
       "      <td>9000.000</td>\n",
       "      <td>9000.000</td>\n",
       "      <td>12.990</td>\n",
       "      <td>303.210</td>\n",
       "      <td>6</td>\n",
       "      <td>50000.000</td>\n",
       "      <td>0</td>\n",
       "      <td>902</td>\n",
       "      <td>37.250</td>\n",
       "      <td>...</td>\n",
       "      <td>0.000</td>\n",
       "      <td>0.000</td>\n",
       "      <td>0.000</td>\n",
       "      <td>0.000</td>\n",
       "      <td>0.000</td>\n",
       "      <td>0.000</td>\n",
       "      <td>0.000</td>\n",
       "      <td>0.000</td>\n",
       "      <td>0.000</td>\n",
       "      <td>0.000</td>\n",
       "    </tr>\n",
       "    <tr>\n",
       "      <th>231031</th>\n",
       "      <td>3000.000</td>\n",
       "      <td>3000.000</td>\n",
       "      <td>3000.000</td>\n",
       "      <td>16.490</td>\n",
       "      <td>106.200</td>\n",
       "      <td>2</td>\n",
       "      <td>30000.000</td>\n",
       "      <td>0</td>\n",
       "      <td>560</td>\n",
       "      <td>35.520</td>\n",
       "      <td>...</td>\n",
       "      <td>0.000</td>\n",
       "      <td>0.000</td>\n",
       "      <td>0.000</td>\n",
       "      <td>0.000</td>\n",
       "      <td>0.000</td>\n",
       "      <td>0.000</td>\n",
       "      <td>0.000</td>\n",
       "      <td>0.000</td>\n",
       "      <td>0.000</td>\n",
       "      <td>0.000</td>\n",
       "    </tr>\n",
       "    <tr>\n",
       "      <th>231076</th>\n",
       "      <td>28000.000</td>\n",
       "      <td>28000.000</td>\n",
       "      <td>28000.000</td>\n",
       "      <td>8.190</td>\n",
       "      <td>879.880</td>\n",
       "      <td>10</td>\n",
       "      <td>275000.000</td>\n",
       "      <td>0</td>\n",
       "      <td>402</td>\n",
       "      <td>12.430</td>\n",
       "      <td>...</td>\n",
       "      <td>0.000</td>\n",
       "      <td>0.000</td>\n",
       "      <td>0.000</td>\n",
       "      <td>0.000</td>\n",
       "      <td>0.000</td>\n",
       "      <td>0.000</td>\n",
       "      <td>0.000</td>\n",
       "      <td>0.000</td>\n",
       "      <td>0.000</td>\n",
       "      <td>0.000</td>\n",
       "    </tr>\n",
       "    <tr>\n",
       "      <th>231113</th>\n",
       "      <td>25000.000</td>\n",
       "      <td>25000.000</td>\n",
       "      <td>25000.000</td>\n",
       "      <td>15.590</td>\n",
       "      <td>873.880</td>\n",
       "      <td>9</td>\n",
       "      <td>82500.000</td>\n",
       "      <td>0</td>\n",
       "      <td>925</td>\n",
       "      <td>7.330</td>\n",
       "      <td>...</td>\n",
       "      <td>0.000</td>\n",
       "      <td>0.000</td>\n",
       "      <td>0.000</td>\n",
       "      <td>0.000</td>\n",
       "      <td>0.000</td>\n",
       "      <td>0.000</td>\n",
       "      <td>0.000</td>\n",
       "      <td>0.000</td>\n",
       "      <td>0.000</td>\n",
       "      <td>0.000</td>\n",
       "    </tr>\n",
       "    <tr>\n",
       "      <th>231334</th>\n",
       "      <td>18625.000</td>\n",
       "      <td>18625.000</td>\n",
       "      <td>18625.000</td>\n",
       "      <td>15.990</td>\n",
       "      <td>654.710</td>\n",
       "      <td>3</td>\n",
       "      <td>52000.000</td>\n",
       "      <td>1</td>\n",
       "      <td>193</td>\n",
       "      <td>20.470</td>\n",
       "      <td>...</td>\n",
       "      <td>0.000</td>\n",
       "      <td>0.000</td>\n",
       "      <td>0.000</td>\n",
       "      <td>0.000</td>\n",
       "      <td>0.000</td>\n",
       "      <td>0.000</td>\n",
       "      <td>0.000</td>\n",
       "      <td>0.000</td>\n",
       "      <td>0.000</td>\n",
       "      <td>0.000</td>\n",
       "    </tr>\n",
       "  </tbody>\n",
       "</table>\n",
       "<p>5 rows × 136 columns</p>\n",
       "</div>"
      ],
      "text/plain": [
       "        loan_amnt  funded_amnt  funded_amnt_inv  int_rate  installment  \\\n",
       "230952   9000.000     9000.000         9000.000    12.990      303.210   \n",
       "231031   3000.000     3000.000         3000.000    16.490      106.200   \n",
       "231076  28000.000    28000.000        28000.000     8.190      879.880   \n",
       "231113  25000.000    25000.000        25000.000    15.590      873.880   \n",
       "231334  18625.000    18625.000        18625.000    15.990      654.710   \n",
       "\n",
       "        emp_length  annual_inc loan_status zip_code    dti      ...        \\\n",
       "230952           6   50000.000           0      902 37.250      ...         \n",
       "231031           2   30000.000           0      560 35.520      ...         \n",
       "231076          10  275000.000           0      402 12.430      ...         \n",
       "231113           9   82500.000           0      925  7.330      ...         \n",
       "231334           3   52000.000           1      193 20.470      ...         \n",
       "\n",
       "        addr_state_SD  addr_state_TN  addr_state_TX  addr_state_UT  \\\n",
       "230952          0.000          0.000          0.000          0.000   \n",
       "231031          0.000          0.000          0.000          0.000   \n",
       "231076          0.000          0.000          0.000          0.000   \n",
       "231113          0.000          0.000          0.000          0.000   \n",
       "231334          0.000          0.000          0.000          0.000   \n",
       "\n",
       "        addr_state_VA  addr_state_VT  addr_state_WA  addr_state_WI  \\\n",
       "230952          0.000          0.000          0.000          0.000   \n",
       "231031          0.000          0.000          0.000          0.000   \n",
       "231076          0.000          0.000          0.000          0.000   \n",
       "231113          0.000          0.000          0.000          0.000   \n",
       "231334          0.000          0.000          0.000          0.000   \n",
       "\n",
       "        addr_state_WV  addr_state_WY  \n",
       "230952          0.000          0.000  \n",
       "231031          0.000          0.000  \n",
       "231076          0.000          0.000  \n",
       "231113          0.000          0.000  \n",
       "231334          0.000          0.000  \n",
       "\n",
       "[5 rows x 136 columns]"
      ]
     },
     "execution_count": 32,
     "metadata": {},
     "output_type": "execute_result"
    }
   ],
   "source": [
    "cat_columns = ['home_ownership', 'verification_status', 'purpose', 'term', \\\n",
    "               'grade', 'sub_grade', 'issue_month', \\\n",
    "               'issue_year', 'application_type', 'addr_state'] \n",
    "\n",
    "def one_hot_encode(df, cat_cols):\n",
    "    # addr_state\n",
    "    dummy_df = pd.get_dummies(df[cat_cols])\n",
    "    df = pd.concat([df, dummy_df], axis=1)\n",
    "    df = df.drop(cat_cols, axis=1)\n",
    "    \n",
    "    return df\n",
    "\n",
    "filtered_loans = one_hot_encode(filtered_loans, cat_columns)\n",
    "filtered_loans.head()"
   ]
  },
  {
   "cell_type": "code",
   "execution_count": 33,
   "metadata": {
    "collapsed": false
   },
   "outputs": [
    {
     "data": {
      "text/plain": [
       "0   0.943\n",
       "1   0.057\n",
       "Name: loan_status, dtype: float64"
      ]
     },
     "execution_count": 33,
     "metadata": {},
     "output_type": "execute_result"
    }
   ],
   "source": [
    "# Show loan status distribution\n",
    "filtered_loans['loan_status'].value_counts() / filtered_loans.shape[0]"
   ]
  },
  {
   "cell_type": "code",
   "execution_count": 526,
   "metadata": {
    "collapsed": false
   },
   "outputs": [
    {
     "name": "stdout",
     "output_type": "stream",
     "text": [
      "No rows: 10005\n",
      "No cols: 132\n",
      "[[2000.0 2000.0 2000.0 15.99 70.31 7 37000.0 0 '852' 16.19 2.0 1.0 9.0\n",
      "  4533.0 20.1 275.21 0.0 0.0 0.0 70.31 0.0 0.0 0.0 1.0 1.0 0.0 0.0 1.0 1.0\n",
      "  0.0 0.0 0.0 0.0 1.0 0.0 0.0 0.0 0.0 0.0 0.0 0.0 0.0 0.0 0.0 0.0 0.0 0.0\n",
      "  0.0 0.0 0.0 0.0 0.0 0.0 1.0 0.0 0.0 0.0 0.0 0.0 0.0 0.0 0.0 0.0 0.0 0.0\n",
      "  0.0 0.0 0.0 0.0 0.0 0.0 0.0 0.0 0.0 1.0 0.0 0.0 0.0 0.0 0.0 0.0 0.0 0.0\n",
      "  0.0 1.0 1.0 0.0 0.0 0.0 1.0 0.0 0.0 0.0 0.0 0.0 0.0 0.0 0.0 0.0 0.0 0.0\n",
      "  0.0 0.0 0.0 0.0 0.0 0.0 0.0 0.0 0.0 0.0 0.0 0.0 0.0 0.0 0.0 0.0 0.0 0.0\n",
      "  0.0 0.0 0.0 0.0 0.0 0.0 0.0 0.0 0.0 0.0 0.0 0.0 0.0]]\n",
      "Index(['Columns: loan_amnt', 'Columns: funded_amnt',\n",
      "       'Columns: funded_amnt_inv', 'Columns: int_rate', 'Columns: installment',\n",
      "       'Columns: emp_length', 'Columns: annual_inc', 'Columns: loan_status',\n",
      "       'Columns: zip_code', 'Columns: dti',\n",
      "       ...\n",
      "       'Columns: addr_state_SD', 'Columns: addr_state_TN',\n",
      "       'Columns: addr_state_TX', 'Columns: addr_state_UT',\n",
      "       'Columns: addr_state_VA', 'Columns: addr_state_VT',\n",
      "       'Columns: addr_state_WA', 'Columns: addr_state_WI',\n",
      "       'Columns: addr_state_WV', 'Columns: addr_state_WY'],\n",
      "      dtype='object', length=132)\n"
     ]
    }
   ],
   "source": [
    "print_data_shape(filtered_loans)"
   ]
  },
  {
   "cell_type": "markdown",
   "metadata": {},
   "source": [
    "Test: drop state_addr field"
   ]
  },
  {
   "cell_type": "markdown",
   "metadata": {},
   "source": [
    "*Algorithms and Techniques*\n",
    "\n",
    "In this section, you will need to discuss the algorithms and techniques you intend to use for solving the problem. You should justify the use of each one based on the characteristics of the problem and the problem domain. Questions to ask yourself when writing this section:\n",
    "- _Are the algorithms you will use, including any default variables/parameters in the project clearly defined?_\n",
    "- _Are the techniques to be used thoroughly discussed and justified?_\n",
    "- _Is it made clear how the input data or datasets will be handled by the algorithms and techniques chosen?_\n",
    "\n"
   ]
  },
  {
   "cell_type": "code",
   "execution_count": 34,
   "metadata": {
    "collapsed": true
   },
   "outputs": [],
   "source": [
    "def save_preproc_dataset(df, sub=None):\n",
    "    #filtered_loans = df.sample(100000, random_state=42)\n",
    "    df.to_csv('/Users/sergeboo/Projects/machine-learning/kaggle/lending-club/filtered_loans.csv', index=False)\n",
    "\n",
    "save_preproc_dataset(filtered_loans)\n",
    "\n",
    "def open_preproc_dataset():\n",
    "    df = pd.read_csv('/Users/sergeboo/Projects/machine-learning/kaggle/lending-club/filtered_loans.csv')\n",
    "    return df"
   ]
  },
  {
   "cell_type": "code",
   "execution_count": 135,
   "metadata": {
    "collapsed": true
   },
   "outputs": [],
   "source": [
    "from time import time\n",
    "\n",
    "def compute_metrics(classifier, predictions):\n",
    "    \n",
    "    predictions = pd.Series(predictions)\n",
    "    # False positives\n",
    "    fp_filter = (predictions == 1) & (filtered_loans['loan_status'] == 0)\n",
    "    fp = len(predictions[fp_filter])\n",
    "    \n",
    "    # True positives\n",
    "    tp_filter = (predictions == 1) & (filtered_loans['loan_status'] == 1)\n",
    "    tp = len(predictions[tp_filter])\n",
    "    \n",
    "    # False negatives\n",
    "    fn_filter = (predictions == 0) & (filtered_loans['loan_status'] == 1)\n",
    "    fn = len(predictions[fn_filter])\n",
    "    \n",
    "    # True negatives\n",
    "    tn_filter = (predictions == 0)& (filtered_loans['loan_status'] == 0)\n",
    "    tn = len(predictions[tn_filter])\n",
    "    \n",
    "    # Rates\n",
    "    '''print(\"tp {}\".format(tp))\n",
    "    print(\"tn {}\".format(tn))\n",
    "    print(\"fn {}\".format(fn))\n",
    "    print(\"fp {}\".format(fp))'''\n",
    "\n",
    "    try:\n",
    "        tpr = tp / (tp + fn)\n",
    "    except ZeroDivisionError:\n",
    "        tpr = 0\n",
    "        \n",
    "    try:\n",
    "        fpr = fp / (fp + tn)\n",
    "    except ZeroDivisionError:\n",
    "        fpr = 0    \n",
    "    \n",
    "    print(tpr * 100)\n",
    "    print(fpr * 100)\n",
    "    #print()\n",
    "    \n",
    "    print('All Measurements:')\n",
    "    \n",
    "    try:\n",
    "        sp = tn / (tn + fp)\n",
    "    except ZeroDivisionError:\n",
    "        sp = 0\n",
    "\n",
    "    try:\n",
    "        sty = tp / (tp + fn)\n",
    "    except ZeroDivisionError:\n",
    "        sty = 0\n",
    "\n",
    "    try:\n",
    "        prcn = tp / (tp + fp)\n",
    "        npv = tn / (fn + tn)\n",
    "    except ZeroDivisionError:\n",
    "        prcn = 0\n",
    "        npv = 0\n",
    "\n",
    "    G_mean = np.sqrt(sp * sty)\n",
    "    acc = (tn + tp) / features.shape[0]\n",
    "    \n",
    "    method_dict = { 'classifier': '{}'.format(classifier),\n",
    "                    'specificity': '{:.2f}'.format(sp*100), \n",
    "                    'sensitivity': '{:.2f}'.format(sty*100), \n",
    "                    'G-mean': '{:.2f}'.format(G_mean*100),\n",
    "                    'precision': '{:.2f}'.format(prcn*100), \n",
    "                    'Negative Predictive Value': '{:.2f}'.format(npv*100), \n",
    "                    'accuracy': '{:.2f}'.format(acc*100),\n",
    "                    'False Positive Rate': '{:.2f}'.format(fpr*100)\n",
    "                 }\n",
    "    return pd.DataFrame(method_dict, index=['values'])"
   ]
  },
  {
   "cell_type": "code",
   "execution_count": 136,
   "metadata": {
    "collapsed": false
   },
   "outputs": [
    {
     "data": {
      "text/html": [
       "<div>\n",
       "<table border=\"1\" class=\"dataframe\">\n",
       "  <thead>\n",
       "    <tr style=\"text-align: right;\">\n",
       "      <th></th>\n",
       "      <th>home_ownership_MORTGAGE</th>\n",
       "      <th>home_ownership_OWN</th>\n",
       "      <th>home_ownership_RENT</th>\n",
       "      <th>verification_status_Not Verified</th>\n",
       "      <th>verification_status_Source Verified</th>\n",
       "      <th>verification_status_Verified</th>\n",
       "      <th>purpose_small_business</th>\n",
       "      <th>term_ 36 months</th>\n",
       "      <th>term_ 60 months</th>\n",
       "    </tr>\n",
       "  </thead>\n",
       "  <tbody>\n",
       "    <tr>\n",
       "      <th>0</th>\n",
       "      <td>0.000</td>\n",
       "      <td>0.000</td>\n",
       "      <td>1.000</td>\n",
       "      <td>0.000</td>\n",
       "      <td>0.000</td>\n",
       "      <td>1.000</td>\n",
       "      <td>1.000</td>\n",
       "      <td>1.000</td>\n",
       "      <td>0.000</td>\n",
       "    </tr>\n",
       "    <tr>\n",
       "      <th>1</th>\n",
       "      <td>0.000</td>\n",
       "      <td>0.000</td>\n",
       "      <td>1.000</td>\n",
       "      <td>0.000</td>\n",
       "      <td>1.000</td>\n",
       "      <td>0.000</td>\n",
       "      <td>1.000</td>\n",
       "      <td>1.000</td>\n",
       "      <td>0.000</td>\n",
       "    </tr>\n",
       "    <tr>\n",
       "      <th>2</th>\n",
       "      <td>1.000</td>\n",
       "      <td>0.000</td>\n",
       "      <td>0.000</td>\n",
       "      <td>0.000</td>\n",
       "      <td>1.000</td>\n",
       "      <td>0.000</td>\n",
       "      <td>1.000</td>\n",
       "      <td>1.000</td>\n",
       "      <td>0.000</td>\n",
       "    </tr>\n",
       "    <tr>\n",
       "      <th>3</th>\n",
       "      <td>0.000</td>\n",
       "      <td>0.000</td>\n",
       "      <td>1.000</td>\n",
       "      <td>0.000</td>\n",
       "      <td>1.000</td>\n",
       "      <td>0.000</td>\n",
       "      <td>1.000</td>\n",
       "      <td>1.000</td>\n",
       "      <td>0.000</td>\n",
       "    </tr>\n",
       "    <tr>\n",
       "      <th>4</th>\n",
       "      <td>0.000</td>\n",
       "      <td>0.000</td>\n",
       "      <td>1.000</td>\n",
       "      <td>0.000</td>\n",
       "      <td>0.000</td>\n",
       "      <td>1.000</td>\n",
       "      <td>1.000</td>\n",
       "      <td>1.000</td>\n",
       "      <td>0.000</td>\n",
       "    </tr>\n",
       "    <tr>\n",
       "      <th>5</th>\n",
       "      <td>1.000</td>\n",
       "      <td>0.000</td>\n",
       "      <td>0.000</td>\n",
       "      <td>0.000</td>\n",
       "      <td>1.000</td>\n",
       "      <td>0.000</td>\n",
       "      <td>1.000</td>\n",
       "      <td>0.000</td>\n",
       "      <td>1.000</td>\n",
       "    </tr>\n",
       "  </tbody>\n",
       "</table>\n",
       "</div>"
      ],
      "text/plain": [
       "   home_ownership_MORTGAGE  home_ownership_OWN  home_ownership_RENT  \\\n",
       "0                    0.000               0.000                1.000   \n",
       "1                    0.000               0.000                1.000   \n",
       "2                    1.000               0.000                0.000   \n",
       "3                    0.000               0.000                1.000   \n",
       "4                    0.000               0.000                1.000   \n",
       "5                    1.000               0.000                0.000   \n",
       "\n",
       "   verification_status_Not Verified  verification_status_Source Verified  \\\n",
       "0                             0.000                                0.000   \n",
       "1                             0.000                                1.000   \n",
       "2                             0.000                                1.000   \n",
       "3                             0.000                                1.000   \n",
       "4                             0.000                                0.000   \n",
       "5                             0.000                                1.000   \n",
       "\n",
       "   verification_status_Verified  purpose_small_business  term_ 36 months  \\\n",
       "0                         1.000                   1.000            1.000   \n",
       "1                         0.000                   1.000            1.000   \n",
       "2                         0.000                   1.000            1.000   \n",
       "3                         0.000                   1.000            1.000   \n",
       "4                         1.000                   1.000            1.000   \n",
       "5                         0.000                   1.000            0.000   \n",
       "\n",
       "   term_ 60 months  \n",
       "0            0.000  \n",
       "1            0.000  \n",
       "2            0.000  \n",
       "3            0.000  \n",
       "4            0.000  \n",
       "5            1.000  "
      ]
     },
     "execution_count": 136,
     "metadata": {},
     "output_type": "execute_result"
    }
   ],
   "source": [
    "filtered_loans = open_preproc_dataset()\n",
    "filtered_loans.ix[:5,21:30]"
   ]
  },
  {
   "cell_type": "code",
   "execution_count": 137,
   "metadata": {
    "collapsed": false
   },
   "outputs": [],
   "source": [
    "# split dataset: feature and target columns\n",
    "x_cols = filtered_loans.columns\n",
    "features_cols = x_cols.drop(['loan_status']) # Dropping target field\n",
    "features = filtered_loans[features_cols]\n",
    "target = filtered_loans['loan_status'].values"
   ]
  },
  {
   "cell_type": "code",
   "execution_count": 138,
   "metadata": {
    "collapsed": true
   },
   "outputs": [],
   "source": [
    "from sklearn.preprocessing import StandardScaler\n",
    "from sklearn.linear_model import LogisticRegression\n",
    "from sklearn.tree import DecisionTreeClassifier\n",
    "from sklearn.ensemble import RandomForestClassifier, RandomForestRegressor, AdaBoostClassifier\n",
    "\n",
    "from sklearn.svm import SVC\n",
    "\n",
    "from sklearn.cross_validation import cross_val_predict, KFold\n",
    "from sklearn.utils import shuffle\n",
    "\n",
    "scaler = StandardScaler()"
   ]
  },
  {
   "cell_type": "code",
   "execution_count": 139,
   "metadata": {
    "collapsed": false
   },
   "outputs": [],
   "source": [
    "#from sklearn.model_selection import train_test_split\n",
    "from sklearn.cross_validation import train_test_split\n",
    "\n",
    "X_train, X_test, y_train, y_test = train_test_split(\n",
    "                                    features, target, random_state=1, test_size=.25)\n",
    "\n",
    "#X_train = scaler.fit_transform(X_train)\n",
    "#X_test = scaler.transform(X_test)"
   ]
  },
  {
   "cell_type": "code",
   "execution_count": 140,
   "metadata": {
    "collapsed": false
   },
   "outputs": [
    {
     "data": {
      "text/plain": [
       "Counter({0: 3722, 1: 230})"
      ]
     },
     "execution_count": 140,
     "metadata": {},
     "output_type": "execute_result"
    }
   ],
   "source": [
    "from collections import Counter\n",
    "Counter(y_train)\n",
    "#X_train.head()"
   ]
  },
  {
   "cell_type": "markdown",
   "metadata": {},
   "source": [
    "Grid Search CV to optimise parameters"
   ]
  },
  {
   "cell_type": "code",
   "execution_count": 45,
   "metadata": {
    "collapsed": true
   },
   "outputs": [],
   "source": [
    "from sklearn.pipeline import make_pipeline\n",
    "from sklearn.grid_search import GridSearchCV"
   ]
  },
  {
   "cell_type": "code",
   "execution_count": 46,
   "metadata": {
    "collapsed": false
   },
   "outputs": [
    {
     "data": {
      "text/plain": [
       "0.92451187778976407"
      ]
     },
     "execution_count": 46,
     "metadata": {},
     "output_type": "execute_result"
    }
   ],
   "source": [
    "penalty = {\n",
    "    0: 1,\n",
    "    1: 11\n",
    "}\n",
    "\n",
    "pipe = make_pipeline(LogisticRegression(class_weight=penalty))\n",
    "C_range = 10.**np.arange(-2, 3)\n",
    "penalty_options = ['l1','l2']\n",
    "param_grid = {'logisticregression__C': C_range, 'logisticregression__penalty': penalty_options}\n",
    "grid = GridSearchCV(pipe, param_grid, cv=10, scoring='roc_auc')\n",
    "grid.fit(features, target)\n",
    "grid.best_score_"
   ]
  },
  {
   "cell_type": "code",
   "execution_count": 48,
   "metadata": {
    "collapsed": false
   },
   "outputs": [
    {
     "data": {
      "text/plain": [
       "{'logisticregression__C': 0.01, 'logisticregression__penalty': 'l1'}"
      ]
     },
     "execution_count": 48,
     "metadata": {},
     "output_type": "execute_result"
    }
   ],
   "source": [
    "grid.best_params_   # Print best parameters for the logistic model"
   ]
  },
  {
   "cell_type": "markdown",
   "metadata": {},
   "source": [
    "Create a Generic Classifier Function"
   ]
  },
  {
   "cell_type": "code",
   "execution_count": 141,
   "metadata": {
    "collapsed": false
   },
   "outputs": [],
   "source": [
    "def run_classifier(clf, X, y, penalty=None, random=1):\n",
    "    start_time = time()\n",
    "    kf = KFold(X.shape[0], random_state=random, shuffle=False)\n",
    "\n",
    "    predictions = cross_val_predict(clf, X, y, cv=kf) \n",
    "\n",
    "    # Let's compute performance:\n",
    "    metrics = compute_metrics(clf.__class__.__name__, predictions)\n",
    "    duration = int(round((time() - start_time) * 1000))\n",
    "    return metrics, duration\n",
    "\n",
    "#print (\"Elapsed: {%H %M %S %Z}\".format(elapsed))"
   ]
  },
  {
   "cell_type": "markdown",
   "metadata": {},
   "source": [
    "Running a Prediction Pipeline"
   ]
  },
  {
   "cell_type": "code",
   "execution_count": 146,
   "metadata": {
    "collapsed": false
   },
   "outputs": [
    {
     "name": "stdout",
     "output_type": "stream",
     "text": [
      "Running Classifier DecisionTreeClassifier\n",
      "46.179401993355484\n",
      "8.412155363252163\n",
      "All Measurements:\n"
     ]
    },
    {
     "data": {
      "text/html": [
       "<div>\n",
       "<table border=\"1\" class=\"dataframe\">\n",
       "  <thead>\n",
       "    <tr style=\"text-align: right;\">\n",
       "      <th></th>\n",
       "      <th>False Positive Rate</th>\n",
       "      <th>G-mean</th>\n",
       "      <th>Negative Predictive Value</th>\n",
       "      <th>accuracy</th>\n",
       "      <th>classifier</th>\n",
       "      <th>precision</th>\n",
       "      <th>sensitivity</th>\n",
       "      <th>specificity</th>\n",
       "    </tr>\n",
       "  </thead>\n",
       "  <tbody>\n",
       "    <tr>\n",
       "      <th>values</th>\n",
       "      <td>8.41</td>\n",
       "      <td>65.03</td>\n",
       "      <td>96.56</td>\n",
       "      <td>88.99</td>\n",
       "      <td>DecisionTreeClassifier</td>\n",
       "      <td>24.96</td>\n",
       "      <td>46.18</td>\n",
       "      <td>91.59</td>\n",
       "    </tr>\n",
       "  </tbody>\n",
       "</table>\n",
       "</div>"
      ],
      "text/plain": [
       "       False Positive Rate G-mean Negative Predictive Value accuracy  \\\n",
       "values                8.41  65.03                     96.56    88.99   \n",
       "\n",
       "                    classifier precision sensitivity specificity  \n",
       "values  DecisionTreeClassifier     24.96       46.18       91.59  "
      ]
     },
     "metadata": {},
     "output_type": "display_data"
    },
    {
     "name": "stdout",
     "output_type": "stream",
     "text": [
      "Running Classifier LogisticRegression\n",
      "51.162790697674424\n",
      "10.907627289192996\n",
      "All Measurements:\n"
     ]
    },
    {
     "data": {
      "text/html": [
       "<div>\n",
       "<table border=\"1\" class=\"dataframe\">\n",
       "  <thead>\n",
       "    <tr style=\"text-align: right;\">\n",
       "      <th></th>\n",
       "      <th>False Positive Rate</th>\n",
       "      <th>G-mean</th>\n",
       "      <th>Negative Predictive Value</th>\n",
       "      <th>accuracy</th>\n",
       "      <th>classifier</th>\n",
       "      <th>precision</th>\n",
       "      <th>sensitivity</th>\n",
       "      <th>specificity</th>\n",
       "    </tr>\n",
       "  </thead>\n",
       "  <tbody>\n",
       "    <tr>\n",
       "      <th>values</th>\n",
       "      <td>10.91</td>\n",
       "      <td>67.51</td>\n",
       "      <td>96.79</td>\n",
       "      <td>86.93</td>\n",
       "      <td>LogisticRegression</td>\n",
       "      <td>22.13</td>\n",
       "      <td>51.16</td>\n",
       "      <td>89.09</td>\n",
       "    </tr>\n",
       "  </tbody>\n",
       "</table>\n",
       "</div>"
      ],
      "text/plain": [
       "       False Positive Rate G-mean Negative Predictive Value accuracy  \\\n",
       "values               10.91  67.51                     96.79    86.93   \n",
       "\n",
       "                classifier precision sensitivity specificity  \n",
       "values  LogisticRegression     22.13       51.16       89.09  "
      ]
     },
     "metadata": {},
     "output_type": "display_data"
    },
    {
     "name": "stdout",
     "output_type": "stream",
     "text": [
      "Running Classifier RandomForestRegressor\n",
      "54.2713567839196\n",
      "0.0\n",
      "All Measurements:\n"
     ]
    },
    {
     "data": {
      "text/html": [
       "<div>\n",
       "<table border=\"1\" class=\"dataframe\">\n",
       "  <thead>\n",
       "    <tr style=\"text-align: right;\">\n",
       "      <th></th>\n",
       "      <th>False Positive Rate</th>\n",
       "      <th>G-mean</th>\n",
       "      <th>Negative Predictive Value</th>\n",
       "      <th>accuracy</th>\n",
       "      <th>classifier</th>\n",
       "      <th>precision</th>\n",
       "      <th>sensitivity</th>\n",
       "      <th>specificity</th>\n",
       "    </tr>\n",
       "  </thead>\n",
       "  <tbody>\n",
       "    <tr>\n",
       "      <th>values</th>\n",
       "      <td>0.00</td>\n",
       "      <td>73.67</td>\n",
       "      <td>96.53</td>\n",
       "      <td>50.09</td>\n",
       "      <td>RandomForestRegressor</td>\n",
       "      <td>100.00</td>\n",
       "      <td>54.27</td>\n",
       "      <td>100.00</td>\n",
       "    </tr>\n",
       "  </tbody>\n",
       "</table>\n",
       "</div>"
      ],
      "text/plain": [
       "       False Positive Rate G-mean Negative Predictive Value accuracy  \\\n",
       "values                0.00  73.67                     96.53    50.09   \n",
       "\n",
       "                   classifier precision sensitivity specificity  \n",
       "values  RandomForestRegressor    100.00       54.27      100.00  "
      ]
     },
     "metadata": {},
     "output_type": "display_data"
    },
    {
     "name": "stdout",
     "output_type": "stream",
     "text": [
      "Running Classifier RandomForestClassifier\n",
      "36.21262458471761\n",
      "0.0\n",
      "All Measurements:\n"
     ]
    },
    {
     "data": {
      "text/html": [
       "<div>\n",
       "<table border=\"1\" class=\"dataframe\">\n",
       "  <thead>\n",
       "    <tr style=\"text-align: right;\">\n",
       "      <th></th>\n",
       "      <th>False Positive Rate</th>\n",
       "      <th>G-mean</th>\n",
       "      <th>Negative Predictive Value</th>\n",
       "      <th>accuracy</th>\n",
       "      <th>classifier</th>\n",
       "      <th>precision</th>\n",
       "      <th>sensitivity</th>\n",
       "      <th>specificity</th>\n",
       "    </tr>\n",
       "  </thead>\n",
       "  <tbody>\n",
       "    <tr>\n",
       "      <th>values</th>\n",
       "      <td>0.00</td>\n",
       "      <td>60.18</td>\n",
       "      <td>96.28</td>\n",
       "      <td>96.36</td>\n",
       "      <td>RandomForestClassifier</td>\n",
       "      <td>100.00</td>\n",
       "      <td>36.21</td>\n",
       "      <td>100.00</td>\n",
       "    </tr>\n",
       "  </tbody>\n",
       "</table>\n",
       "</div>"
      ],
      "text/plain": [
       "       False Positive Rate G-mean Negative Predictive Value accuracy  \\\n",
       "values                0.00  60.18                     96.28    96.36   \n",
       "\n",
       "                    classifier precision sensitivity specificity  \n",
       "values  RandomForestClassifier    100.00       36.21      100.00  "
      ]
     },
     "metadata": {},
     "output_type": "display_data"
    },
    {
     "name": "stdout",
     "output_type": "stream",
     "text": [
      "Running Classifier AdaBoostClassifier\n",
      "40.863787375415285\n",
      "7.546790098611391\n",
      "All Measurements:\n"
     ]
    },
    {
     "data": {
      "text/html": [
       "<div>\n",
       "<table border=\"1\" class=\"dataframe\">\n",
       "  <thead>\n",
       "    <tr style=\"text-align: right;\">\n",
       "      <th></th>\n",
       "      <th>False Positive Rate</th>\n",
       "      <th>G-mean</th>\n",
       "      <th>Negative Predictive Value</th>\n",
       "      <th>accuracy</th>\n",
       "      <th>classifier</th>\n",
       "      <th>precision</th>\n",
       "      <th>sensitivity</th>\n",
       "      <th>specificity</th>\n",
       "    </tr>\n",
       "  </thead>\n",
       "  <tbody>\n",
       "    <tr>\n",
       "      <th>values</th>\n",
       "      <td>7.55</td>\n",
       "      <td>61.47</td>\n",
       "      <td>96.27</td>\n",
       "      <td>89.51</td>\n",
       "      <td>AdaBoostClassifier</td>\n",
       "      <td>24.70</td>\n",
       "      <td>40.86</td>\n",
       "      <td>92.45</td>\n",
       "    </tr>\n",
       "  </tbody>\n",
       "</table>\n",
       "</div>"
      ],
      "text/plain": [
       "       False Positive Rate G-mean Negative Predictive Value accuracy  \\\n",
       "values                7.55  61.47                     96.27    89.51   \n",
       "\n",
       "                classifier precision sensitivity specificity  \n",
       "values  AdaBoostClassifier     24.70       40.86       92.45  "
      ]
     },
     "metadata": {},
     "output_type": "display_data"
    },
    {
     "name": "stdout",
     "output_type": "stream",
     "text": [
      "Running Classifier SVC\n",
      "0.0\n",
      "0.0\n",
      "All Measurements:\n"
     ]
    },
    {
     "data": {
      "text/html": [
       "<div>\n",
       "<table border=\"1\" class=\"dataframe\">\n",
       "  <thead>\n",
       "    <tr style=\"text-align: right;\">\n",
       "      <th></th>\n",
       "      <th>False Positive Rate</th>\n",
       "      <th>G-mean</th>\n",
       "      <th>Negative Predictive Value</th>\n",
       "      <th>accuracy</th>\n",
       "      <th>classifier</th>\n",
       "      <th>precision</th>\n",
       "      <th>sensitivity</th>\n",
       "      <th>specificity</th>\n",
       "    </tr>\n",
       "  </thead>\n",
       "  <tbody>\n",
       "    <tr>\n",
       "      <th>values</th>\n",
       "      <td>0.00</td>\n",
       "      <td>0.00</td>\n",
       "      <td>0.00</td>\n",
       "      <td>94.29</td>\n",
       "      <td>SVC</td>\n",
       "      <td>0.00</td>\n",
       "      <td>0.00</td>\n",
       "      <td>100.00</td>\n",
       "    </tr>\n",
       "  </tbody>\n",
       "</table>\n",
       "</div>"
      ],
      "text/plain": [
       "       False Positive Rate G-mean Negative Predictive Value accuracy  \\\n",
       "values                0.00   0.00                      0.00    94.29   \n",
       "\n",
       "       classifier precision sensitivity specificity  \n",
       "values        SVC      0.00        0.00      100.00  "
      ]
     },
     "metadata": {},
     "output_type": "display_data"
    },
    {
     "data": {
      "text/html": [
       "<div>\n",
       "<table border=\"1\" class=\"dataframe\">\n",
       "  <thead>\n",
       "    <tr style=\"text-align: right;\">\n",
       "      <th></th>\n",
       "    </tr>\n",
       "  </thead>\n",
       "  <tbody>\n",
       "  </tbody>\n",
       "</table>\n",
       "</div>"
      ],
      "text/plain": [
       "Empty DataFrame\n",
       "Columns: []\n",
       "Index: []"
      ]
     },
     "metadata": {},
     "output_type": "display_data"
    }
   ],
   "source": [
    "from IPython.display import display, HTML\n",
    "\n",
    "penalty = { 0: 1,\n",
    "            1: 11 }\n",
    "\n",
    "LR = LogisticRegression(C=0.01, class_weight=penalty)\n",
    "DT = DecisionTreeClassifier(random_state=1, class_weight=penalty)\n",
    "RFR = RandomForestRegressor(n_estimators=100, random_state=1) #.fit(features,target)\n",
    "RFC = RandomForestClassifier(n_estimators=100, random_state=1, class_weight=penalty) #.fit(features,target)\n",
    "#clf = RandomForestClassifier(n_estimators=100, bootstrap=True, min_samples_leaf=5, max_depth=20, \n",
    "#                             max_features=10, class_weight='balanced')\n",
    "ADA = AdaBoostClassifier(n_estimators=200, learning_rate=0.7)\n",
    "svc = SVC(C=0.01, random_state=1, class_weight=penalty)\n",
    "\n",
    "classifiers = [DT, LR, RFR, RFC, ADA, svc]\n",
    "\n",
    "results = pd.DataFrame()\n",
    "\n",
    "for clf in classifiers:\n",
    "    print (\"Running Classifier {}\".format(clf.__class__.__name__))\n",
    "    metrics, elapsed = run_classifier(clf=clf, X=features, y=target.tolist(), penalty=penalty, random=1)\n",
    "    results.append(metrics)\n",
    "    display(metrics)\n",
    "\n",
    "display(results)"
   ]
  },
  {
   "cell_type": "code",
   "execution_count": 147,
   "metadata": {
    "collapsed": false
   },
   "outputs": [
    {
     "data": {
      "text/html": [
       "<div>\n",
       "<table border=\"1\" class=\"dataframe\">\n",
       "  <thead>\n",
       "    <tr style=\"text-align: right;\">\n",
       "      <th></th>\n",
       "    </tr>\n",
       "  </thead>\n",
       "  <tbody>\n",
       "  </tbody>\n",
       "</table>\n",
       "</div>"
      ],
      "text/plain": [
       "Empty DataFrame\n",
       "Columns: []\n",
       "Index: []"
      ]
     },
     "execution_count": 147,
     "metadata": {},
     "output_type": "execute_result"
    }
   ],
   "source": [
    "results"
   ]
  },
  {
   "cell_type": "markdown",
   "metadata": {},
   "source": [
    "ROC Curve analysis"
   ]
  },
  {
   "cell_type": "code",
   "execution_count": 158,
   "metadata": {
    "collapsed": false
   },
   "outputs": [
    {
     "ename": "IndexError",
     "evalue": "tuple index out of range",
     "output_type": "error",
     "traceback": [
      "\u001b[0;31m---------------------------------------------------------------------------\u001b[0m",
      "\u001b[0;31mIndexError\u001b[0m                                Traceback (most recent call last)",
      "\u001b[0;32m<ipython-input-158-9af40389c9c5>\u001b[0m in \u001b[0;36m<module>\u001b[0;34m()\u001b[0m\n\u001b[1;32m     11\u001b[0m \u001b[0mdf\u001b[0m \u001b[0;34m=\u001b[0m \u001b[0mpd\u001b[0m\u001b[0;34m.\u001b[0m\u001b[0mDataFrame\u001b[0m\u001b[0;34m(\u001b[0m\u001b[0mdict\u001b[0m\u001b[0;34m(\u001b[0m\u001b[0mfpr\u001b[0m\u001b[0;34m=\u001b[0m\u001b[0mfpr\u001b[0m\u001b[0;34m,\u001b[0m \u001b[0mtpr\u001b[0m\u001b[0;34m=\u001b[0m\u001b[0mtpr\u001b[0m\u001b[0;34m)\u001b[0m\u001b[0;34m)\u001b[0m\u001b[0;34m\u001b[0m\u001b[0m\n\u001b[1;32m     12\u001b[0m \u001b[0;34m\u001b[0m\u001b[0m\n\u001b[0;32m---> 13\u001b[0;31m \u001b[0mn_classes\u001b[0m \u001b[0;34m=\u001b[0m \u001b[0mtarget\u001b[0m\u001b[0;34m.\u001b[0m\u001b[0mshape\u001b[0m\u001b[0;34m[\u001b[0m\u001b[0;36m1\u001b[0m\u001b[0;34m]\u001b[0m\u001b[0;34m\u001b[0m\u001b[0m\n\u001b[0m\u001b[1;32m     14\u001b[0m \u001b[0;34m\u001b[0m\u001b[0m\n\u001b[1;32m     15\u001b[0m \u001b[0;32mfrom\u001b[0m \u001b[0msklearn\u001b[0m\u001b[0;34m.\u001b[0m\u001b[0mmetrics\u001b[0m \u001b[0;32mimport\u001b[0m \u001b[0mroc_curve\u001b[0m\u001b[0;34m\u001b[0m\u001b[0m\n",
      "\u001b[0;31mIndexError\u001b[0m: tuple index out of range"
     ]
    }
   ],
   "source": [
    "from sklearn import metrics\n",
    "import pandas as pd\n",
    "\n",
    "clf = LogisticRegression()\n",
    "clf.fit(X_train, y_train)\n",
    "\n",
    "preds = clf.predict_proba(X_test)[:,1]\n",
    "fpr, tpr, _ = metrics.roc_curve(y_test, preds)\n",
    "auc = metrics.auc(fpr,tpr)\n",
    "\n",
    "df = pd.DataFrame(dict(fpr=fpr, tpr=tpr))\n",
    "\n",
    "n_classes = target.shape[1]\n",
    "\n",
    "from sklearn.metrics import roc_curve\n",
    "from matplotlib import pyplot as plt\n",
    "\n",
    "fpr, tpr = roc_curve(classes, scores)\n",
    "plt.plot(fpr, tpr)"
   ]
  },
  {
   "cell_type": "code",
   "execution_count": null,
   "metadata": {
    "collapsed": true
   },
   "outputs": [],
   "source": [
    "from sklearn.metrics import roc_curve, auc\n",
    "\n",
    "n_classes = target.shape[1]\n",
    "\n",
    "fpr, tpr, threshold = metrics.roc_curve(y_test, preds)\n",
    "roc_auc = metrics.auc(fpr, tpr)\n",
    "\n",
    "# plot curve\n",
    "plt.figure()\n",
    "lw = 2\n",
    "plt.plot(fpr[2], tpr[2], color='darkorange',\n",
    "         lw=lw, label='ROC curve (area = %0.2f)' % roc_auc[2])\n",
    "plt.plot([0, 1], [0, 1], color='navy', lw=lw, linestyle='--')\n",
    "plt.xlim([0.0, 1.0])\n",
    "plt.ylim([0.0, 1.05])\n",
    "plt.xlabel('False Positive Rate')\n",
    "plt.ylabel('True Positive Rate')\n",
    "plt.title('Receiver operating characteristic example')\n",
    "plt.legend(loc=\"lower right\")\n",
    "plt.show()"
   ]
  },
  {
   "cell_type": "markdown",
   "metadata": {},
   "source": [
    "SVM: Optimise parameters"
   ]
  },
  {
   "cell_type": "code",
   "execution_count": null,
   "metadata": {
    "collapsed": false
   },
   "outputs": [],
   "source": [
    "from sklearn.metrics import classification_report\n",
    "\n",
    "penalty = {\n",
    "    0: 1,\n",
    "    1: 11\n",
    "}\n",
    "\n",
    "tuned_parameters = [{'kernel': ['rbf'], 'gamma': [1e-3, 1e-4],\n",
    "                     'C': [1, 10, 100, 1000]},\n",
    "                    {'kernel': ['linear'], 'C': [1, 10, 100, 1000]}]\n",
    "\n",
    "scores = ['precision', 'recall']\n",
    "\n",
    "for score in scores:\n",
    "    print(\"# Tuning hyper-parameters for %s\" % score)\n",
    "    print()\n",
    "\n",
    "    clf = GridSearchCV(lr(C=1), tuned_parameters, cv=5,\n",
    "                       scoring='%s_macro' % score)\n",
    "    clf.fit(X_train, y_train)\n",
    "    print(\"Best parameters set found on development set:\")\n",
    "    print()\n",
    "    print(clf.best_params_)\n",
    "    print()\n",
    "    print(\"Grid scores on development set:\")\n",
    "    print()\n",
    "    means = clf.cv_results_['mean_test_score']\n",
    "    stds = clf.cv_results_['std_test_score']\n",
    "    for mean, std, params in zip(means, stds, clf.cv_results_['params']):\n",
    "        print(\"%0.3f (+/-%0.03f) for %r\"\n",
    "              % (mean, std * 2, params))\n",
    "    print()\n",
    "\n",
    "    print(\"Detailed classification report:\")\n",
    "    print()\n",
    "    print(\"The model is trained on the full development set.\")\n",
    "    print(\"The scores are computed on the full evaluation set.\")\n",
    "    print()\n",
    "    y_true, y_pred = y_test, clf.predict(X_test)\n",
    "    print(classification_report(y_true, y_pred))\n",
    "    print()"
   ]
  },
  {
   "cell_type": "markdown",
   "metadata": {},
   "source": [
    "Feature Importance"
   ]
  },
  {
   "cell_type": "code",
   "execution_count": 104,
   "metadata": {
    "collapsed": false
   },
   "outputs": [
    {
     "data": {
      "text/plain": [
       "(0.0, 0.5)"
      ]
     },
     "execution_count": 104,
     "metadata": {},
     "output_type": "execute_result"
    },
    {
     "data": {
      "image/png": "[encoded data removed]",
      "text/plain": [
       "<matplotlib.figure.Figure at 0x129eed630>"
      ]
     },
     "metadata": {},
     "output_type": "display_data"
    }
   ],
   "source": [
    "from sklearn.ensemble import RandomForestClassifier,RandomForestRegressor\n",
    "\n",
    "RF = RandomForestRegressor(n_estimators=100, random_state=1).fit(features,target)\n",
    "\n",
    "feature_names = np.array([' '.join([str(b), a]) for a,b in zip(features.columns,range(len(features.columns)))])\n",
    "\n",
    "importance = np.mean([tree.feature_importances_ for tree in RF.estimators_],axis=0)\n",
    "std = np.std([tree.feature_importances_ for tree in RF.estimators_],axis=0)\n",
    "indices = np.argsort(importance)\n",
    "range_ = range(len(importance))\n",
    "plt.figure()\n",
    "plt.title(\"Feature Importance from Random Forest Classification\")\n",
    "\n",
    "plt.barh(range_, importance[indices], color=\"r\", xerr=std[indices], alpha=0.4, align=\"center\")\n",
    "\n",
    "plt.yticks(range(len(importance)), feature_names[indices])\n",
    "plt.ylim([100, len(importance)])\n",
    "#plt.ylim([100, 135])\n",
    "plt.xlim([0.0, 0.5])"
   ]
  },
  {
   "cell_type": "markdown",
   "metadata": {},
   "source": [
    "*Benchmark*\n",
    "\n",
    "In this section, you will need to provide a clearly defined benchmark result or threshold for comparing across performances obtained by your solution. The reasoning behind the benchmark (in the case where it is not an established result) should be discussed. Questions to ask yourself when writing this section:\n",
    "- _Has some result or value been provided that acts as a benchmark for measuring performance?_\n",
    "- _Is it clear how this result or value was obtained (whether by data or by hypothesis)?_\n"
   ]
  },
  {
   "cell_type": "code",
   "execution_count": null,
   "metadata": {
    "collapsed": true
   },
   "outputs": [],
   "source": []
  },
  {
   "cell_type": "markdown",
   "metadata": {},
   "source": [
    "**III. Methodology**"
   ]
  },
  {
   "cell_type": "markdown",
   "metadata": {},
   "source": [
    "*Data Preprocessing*\n",
    "\n",
    "In this section, all of your preprocessing steps will need to be clearly documented, if any were necessary. From the previous section, any of the abnormalities or characteristics that you identified about the dataset will be addressed and corrected here. Questions to ask yourself when writing this section:\n",
    "- _If the algorithms chosen require preprocessing steps like feature selection or feature transformations, have they been properly documented?_\n",
    "- _Based on the **Data Exploration** section, if there were abnormalities or characteristics that needed to be addressed, have they been properly corrected?_\n",
    "- _If no preprocessing is needed, has it been made clear why?_\n"
   ]
  },
  {
   "cell_type": "code",
   "execution_count": null,
   "metadata": {
    "collapsed": true
   },
   "outputs": [],
   "source": []
  },
  {
   "cell_type": "markdown",
   "metadata": {},
   "source": [
    "*Implementation*\n",
    "\n",
    "In this section, the process for which metrics, algorithms, and techniques that you implemented for the given data will need to be clearly documented. It should be abundantly clear how the implementation was carried out, and discussion should be made regarding any complications that occurred during this process. Questions to ask yourself when writing this section:\n",
    "- _Is it made clear how the algorithms and techniques were implemented with the given datasets or input data?_\n",
    "- _Were there any complications with the original metrics or techniques that required changing prior to acquiring a solution?_\n",
    "- _Was there any part of the coding process (e.g., writing complicated functions) that should be documented?_\n",
    "\n"
   ]
  },
  {
   "cell_type": "code",
   "execution_count": null,
   "metadata": {
    "collapsed": true
   },
   "outputs": [],
   "source": []
  },
  {
   "cell_type": "markdown",
   "metadata": {},
   "source": [
    "*Refinement*\n",
    "\n",
    "In this section, you will need to discuss the process of improvement you made upon the algorithms and techniques you used in your implementation. For example, adjusting parameters for certain models to acquire improved solutions would fall under the refinement category. Your initial and final solutions should be reported, as well as any significant intermediate results as necessary. Questions to ask yourself when writing this section:\n",
    "- _Has an initial solution been found and clearly reported?_\n",
    "- _Is the process of improvement clearly documented, such as what techniques were used?_\n",
    "- _Are intermediate and final solutions clearly reported as the process is improved?_\n",
    "\n"
   ]
  },
  {
   "cell_type": "code",
   "execution_count": null,
   "metadata": {
    "collapsed": true
   },
   "outputs": [],
   "source": []
  },
  {
   "cell_type": "markdown",
   "metadata": {},
   "source": [
    "** IV. Results **"
   ]
  },
  {
   "cell_type": "markdown",
   "metadata": {},
   "source": [
    "*Model Evaluation and Validation*\n",
    "\n",
    "In this section, the final model and any supporting qualities should be evaluated in detail. It should be clear how the final model was derived and why this model was chosen. In addition, some type of analysis should be used to validate the robustness of this model and its solution, such as manipulating the input data or environment to see how the model’s solution is affected (this is called sensitivity analysis). Questions to ask yourself when writing this section:\n",
    "- _Is the final model reasonable and aligning with solution expectations? Are the final parameters of the model appropriate?_\n",
    "- _Has the final model been tested with various inputs to evaluate whether the model generalizes well to unseen data?_\n",
    "- _Is the model robust enough for the problem? Do small perturbations (changes) in training data or the input space greatly affect the results?_\n",
    "- _Can results found from the model be trusted?_\n"
   ]
  },
  {
   "cell_type": "code",
   "execution_count": null,
   "metadata": {
    "collapsed": true
   },
   "outputs": [],
   "source": []
  },
  {
   "cell_type": "markdown",
   "metadata": {},
   "source": [
    "*Justification*\n",
    "\n",
    "In this section, your model’s final solution and its results should be compared to the benchmark you established earlier in the project using some type of statistical analysis. You should also justify whether these results and the solution are significant enough to have solved the problem posed in the project. Questions to ask yourself when writing this section:\n",
    "- _Are the final results found stronger than the benchmark result reported earlier?_\n",
    "- _Have you thoroughly analyzed and discussed the final solution?_\n",
    "- _Is the final solution significant enough to have solved the problem?_"
   ]
  },
  {
   "cell_type": "code",
   "execution_count": null,
   "metadata": {
    "collapsed": true
   },
   "outputs": [],
   "source": []
  },
  {
   "cell_type": "markdown",
   "metadata": {},
   "source": [
    "**V. Conclusion**\n",
    "\n",
    "Free-Form Visualization\n",
    "In this section, you will need to provide some form of visualization that emphasizes an important quality about the project. It is much more free-form, but should reasonably support a significant result or characteristic about the problem that you want to discuss. Questions to ask yourself when writing this section:\n",
    "- _Have you visualized a relevant or important quality about the problem, dataset, input data, or results?_\n",
    "- _Is the visualization thoroughly analyzed and discussed?_\n",
    "- _If a plot is provided, are the axes, title, and datum clearly defined?_\n"
   ]
  },
  {
   "cell_type": "code",
   "execution_count": null,
   "metadata": {
    "collapsed": true
   },
   "outputs": [],
   "source": []
  }
 ],
 "metadata": {
  "anaconda-cloud": {},
  "kernelspec": {
   "display_name": "Python [conda root]",
   "language": "python",
   "name": "conda-root-py"
  },
  "language_info": {
   "codemirror_mode": {
    "name": "ipython",
    "version": 3
   },
   "file_extension": ".py",
   "mimetype": "text/x-python",
   "name": "python",
   "nbconvert_exporter": "python",
   "pygments_lexer": "ipython3",
   "version": "3.5.2"
  }
 },
 "nbformat": 4,
 "nbformat_minor": 1
}
